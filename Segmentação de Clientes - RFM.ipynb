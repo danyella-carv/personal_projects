{
 "cells": [
  {
   "cell_type": "markdown",
   "id": "3976ccfd",
   "metadata": {},
   "source": [
    "# Segmentação de clientes em uma empresa a partir de uma análise RFM e utilizando K-Means Clustering"
   ]
  },
  {
   "cell_type": "code",
   "execution_count": 1,
   "id": "9d9ba493",
   "metadata": {},
   "outputs": [],
   "source": [
    "import pandas as pd\n",
    "import numpy as np\n",
    "import matplotlib.pyplot as plt\n",
    "import seaborn as sns\n",
    "import datetime"
   ]
  },
  {
   "cell_type": "markdown",
   "id": "5106a838",
   "metadata": {},
   "source": [
    "## Perfil dos dados, variáveis e tipos"
   ]
  },
  {
   "cell_type": "code",
   "execution_count": 2,
   "id": "245d0a9c",
   "metadata": {},
   "outputs": [
    {
     "name": "stdout",
     "output_type": "stream",
     "text": [
      "<class 'pandas.core.frame.DataFrame'>\n",
      "RangeIndex: 116581 entries, 0 to 116580\n",
      "Data columns (total 27 columns):\n",
      " #   Column                Non-Null Count   Dtype  \n",
      "---  ------                --------------   -----  \n",
      " 0   amostra               116581 non-null  int64  \n",
      " 1   id_cliente            116581 non-null  object \n",
      " 2   id_unico_cliente      116581 non-null  object \n",
      " 3   item_id               116581 non-null  int64  \n",
      " 4   cep_cliente           116581 non-null  int64  \n",
      " 5   cidade_cliente        116581 non-null  object \n",
      " 6   estado_cliente        116581 non-null  object \n",
      " 7   id_pedido             116581 non-null  object \n",
      " 8   status_pedido         116581 non-null  object \n",
      " 9   horario_pedido        116581 non-null  object \n",
      " 10  pedido_aprovado       116567 non-null  object \n",
      " 11  pedido_entregador     115368 non-null  object \n",
      " 12  pedido_entregue       114066 non-null  object \n",
      " 13  data_estimada         116581 non-null  object \n",
      " 14  id_vendedor           116581 non-null  object \n",
      " 15  preco                 116581 non-null  float64\n",
      " 16  frete                 116581 non-null  float64\n",
      " 17  pagamento_sequencial  116581 non-null  int64  \n",
      " 18  pagamento_tipo        116581 non-null  object \n",
      " 19  pagamento_prestacoes  116581 non-null  int64  \n",
      " 20  pagamento_valor       116581 non-null  float64\n",
      " 21  review                116581 non-null  int64  \n",
      " 22  categoria             116581 non-null  object \n",
      " 23  categoria_ingles      116581 non-null  object \n",
      " 24  cep_vendedor          116581 non-null  int64  \n",
      " 25  cidade_vendedor       116581 non-null  object \n",
      " 26  estado_vendedor       116581 non-null  object \n",
      "dtypes: float64(3), int64(7), object(17)\n",
      "memory usage: 24.0+ MB\n"
     ]
    }
   ],
   "source": [
    "df = pd.read_csv('BancoDeDados.csv')\n",
    "df.info() "
   ]
  },
  {
   "cell_type": "code",
   "execution_count": 3,
   "id": "356873b0",
   "metadata": {
    "scrolled": false
   },
   "outputs": [
    {
     "data": {
      "text/html": [
       "<div>\n",
       "<style scoped>\n",
       "    .dataframe tbody tr th:only-of-type {\n",
       "        vertical-align: middle;\n",
       "    }\n",
       "\n",
       "    .dataframe tbody tr th {\n",
       "        vertical-align: top;\n",
       "    }\n",
       "\n",
       "    .dataframe thead th {\n",
       "        text-align: right;\n",
       "    }\n",
       "</style>\n",
       "<table border=\"1\" class=\"dataframe\">\n",
       "  <thead>\n",
       "    <tr style=\"text-align: right;\">\n",
       "      <th></th>\n",
       "      <th>amostra</th>\n",
       "      <th>id_cliente</th>\n",
       "      <th>id_unico_cliente</th>\n",
       "      <th>item_id</th>\n",
       "      <th>cep_cliente</th>\n",
       "      <th>cidade_cliente</th>\n",
       "      <th>estado_cliente</th>\n",
       "      <th>id_pedido</th>\n",
       "      <th>status_pedido</th>\n",
       "      <th>horario_pedido</th>\n",
       "      <th>...</th>\n",
       "      <th>pagamento_sequencial</th>\n",
       "      <th>pagamento_tipo</th>\n",
       "      <th>pagamento_prestacoes</th>\n",
       "      <th>pagamento_valor</th>\n",
       "      <th>review</th>\n",
       "      <th>categoria</th>\n",
       "      <th>categoria_ingles</th>\n",
       "      <th>cep_vendedor</th>\n",
       "      <th>cidade_vendedor</th>\n",
       "      <th>estado_vendedor</th>\n",
       "    </tr>\n",
       "  </thead>\n",
       "  <tbody>\n",
       "    <tr>\n",
       "      <th>0</th>\n",
       "      <td>0</td>\n",
       "      <td>06b8999e2fba1a1fbc88172c00ba8bc7</td>\n",
       "      <td>861eff4711a542e4b93843c6dd7febb0</td>\n",
       "      <td>1</td>\n",
       "      <td>14409</td>\n",
       "      <td>franca</td>\n",
       "      <td>SP</td>\n",
       "      <td>00e7ee1b050b8499577073aeb2a297a1</td>\n",
       "      <td>delivered</td>\n",
       "      <td>2017-05-16 15:05:35</td>\n",
       "      <td>...</td>\n",
       "      <td>1</td>\n",
       "      <td>credit_card</td>\n",
       "      <td>2</td>\n",
       "      <td>146.87</td>\n",
       "      <td>4</td>\n",
       "      <td>moveis_escritorio</td>\n",
       "      <td>office_furniture</td>\n",
       "      <td>8577</td>\n",
       "      <td>itaquaquecetuba</td>\n",
       "      <td>SP</td>\n",
       "    </tr>\n",
       "    <tr>\n",
       "      <th>1</th>\n",
       "      <td>1</td>\n",
       "      <td>8912fc0c3bbf1e2fbf35819e21706718</td>\n",
       "      <td>9eae34bbd3a474ec5d07949ca7de67c0</td>\n",
       "      <td>1</td>\n",
       "      <td>68030</td>\n",
       "      <td>santarem</td>\n",
       "      <td>PA</td>\n",
       "      <td>c1d2b34febe9cd269e378117d6681172</td>\n",
       "      <td>delivered</td>\n",
       "      <td>2017-11-09 00:50:13</td>\n",
       "      <td>...</td>\n",
       "      <td>1</td>\n",
       "      <td>credit_card</td>\n",
       "      <td>1</td>\n",
       "      <td>275.79</td>\n",
       "      <td>1</td>\n",
       "      <td>moveis_escritorio</td>\n",
       "      <td>office_furniture</td>\n",
       "      <td>8577</td>\n",
       "      <td>itaquaquecetuba</td>\n",
       "      <td>SP</td>\n",
       "    </tr>\n",
       "    <tr>\n",
       "      <th>2</th>\n",
       "      <td>2</td>\n",
       "      <td>8912fc0c3bbf1e2fbf35819e21706718</td>\n",
       "      <td>9eae34bbd3a474ec5d07949ca7de67c0</td>\n",
       "      <td>2</td>\n",
       "      <td>68030</td>\n",
       "      <td>santarem</td>\n",
       "      <td>PA</td>\n",
       "      <td>c1d2b34febe9cd269e378117d6681172</td>\n",
       "      <td>delivered</td>\n",
       "      <td>2017-11-09 00:50:13</td>\n",
       "      <td>...</td>\n",
       "      <td>1</td>\n",
       "      <td>credit_card</td>\n",
       "      <td>1</td>\n",
       "      <td>275.79</td>\n",
       "      <td>1</td>\n",
       "      <td>moveis_escritorio</td>\n",
       "      <td>office_furniture</td>\n",
       "      <td>8577</td>\n",
       "      <td>itaquaquecetuba</td>\n",
       "      <td>SP</td>\n",
       "    </tr>\n",
       "    <tr>\n",
       "      <th>3</th>\n",
       "      <td>3</td>\n",
       "      <td>f0ac8e5a239118859b1734e1087cbb1f</td>\n",
       "      <td>3c799d181c34d51f6d44bbbc563024db</td>\n",
       "      <td>1</td>\n",
       "      <td>92480</td>\n",
       "      <td>nova santa rita</td>\n",
       "      <td>RS</td>\n",
       "      <td>b1a5d5365d330d10485e0203d54ab9e8</td>\n",
       "      <td>delivered</td>\n",
       "      <td>2017-05-07 20:11:26</td>\n",
       "      <td>...</td>\n",
       "      <td>1</td>\n",
       "      <td>credit_card</td>\n",
       "      <td>7</td>\n",
       "      <td>140.61</td>\n",
       "      <td>3</td>\n",
       "      <td>moveis_escritorio</td>\n",
       "      <td>office_furniture</td>\n",
       "      <td>8577</td>\n",
       "      <td>itaquaquecetuba</td>\n",
       "      <td>SP</td>\n",
       "    </tr>\n",
       "    <tr>\n",
       "      <th>4</th>\n",
       "      <td>4</td>\n",
       "      <td>6bc8d08963a135220ed6c6d098831f84</td>\n",
       "      <td>23397e992b09769faf5e66f9e171a241</td>\n",
       "      <td>1</td>\n",
       "      <td>25931</td>\n",
       "      <td>mage</td>\n",
       "      <td>RJ</td>\n",
       "      <td>2e604b3614664aa66867856dba7e61b7</td>\n",
       "      <td>delivered</td>\n",
       "      <td>2018-02-03 19:45:40</td>\n",
       "      <td>...</td>\n",
       "      <td>1</td>\n",
       "      <td>credit_card</td>\n",
       "      <td>10</td>\n",
       "      <td>137.58</td>\n",
       "      <td>4</td>\n",
       "      <td>moveis_escritorio</td>\n",
       "      <td>office_furniture</td>\n",
       "      <td>8577</td>\n",
       "      <td>itaquaquecetuba</td>\n",
       "      <td>SP</td>\n",
       "    </tr>\n",
       "  </tbody>\n",
       "</table>\n",
       "<p>5 rows × 27 columns</p>\n",
       "</div>"
      ],
      "text/plain": [
       "   amostra                        id_cliente  \\\n",
       "0        0  06b8999e2fba1a1fbc88172c00ba8bc7   \n",
       "1        1  8912fc0c3bbf1e2fbf35819e21706718   \n",
       "2        2  8912fc0c3bbf1e2fbf35819e21706718   \n",
       "3        3  f0ac8e5a239118859b1734e1087cbb1f   \n",
       "4        4  6bc8d08963a135220ed6c6d098831f84   \n",
       "\n",
       "                   id_unico_cliente  item_id  cep_cliente   cidade_cliente  \\\n",
       "0  861eff4711a542e4b93843c6dd7febb0        1        14409           franca   \n",
       "1  9eae34bbd3a474ec5d07949ca7de67c0        1        68030         santarem   \n",
       "2  9eae34bbd3a474ec5d07949ca7de67c0        2        68030         santarem   \n",
       "3  3c799d181c34d51f6d44bbbc563024db        1        92480  nova santa rita   \n",
       "4  23397e992b09769faf5e66f9e171a241        1        25931             mage   \n",
       "\n",
       "  estado_cliente                         id_pedido status_pedido  \\\n",
       "0             SP  00e7ee1b050b8499577073aeb2a297a1     delivered   \n",
       "1             PA  c1d2b34febe9cd269e378117d6681172     delivered   \n",
       "2             PA  c1d2b34febe9cd269e378117d6681172     delivered   \n",
       "3             RS  b1a5d5365d330d10485e0203d54ab9e8     delivered   \n",
       "4             RJ  2e604b3614664aa66867856dba7e61b7     delivered   \n",
       "\n",
       "        horario_pedido  ... pagamento_sequencial pagamento_tipo  \\\n",
       "0  2017-05-16 15:05:35  ...                    1    credit_card   \n",
       "1  2017-11-09 00:50:13  ...                    1    credit_card   \n",
       "2  2017-11-09 00:50:13  ...                    1    credit_card   \n",
       "3  2017-05-07 20:11:26  ...                    1    credit_card   \n",
       "4  2018-02-03 19:45:40  ...                    1    credit_card   \n",
       "\n",
       "  pagamento_prestacoes pagamento_valor review          categoria  \\\n",
       "0                    2          146.87      4  moveis_escritorio   \n",
       "1                    1          275.79      1  moveis_escritorio   \n",
       "2                    1          275.79      1  moveis_escritorio   \n",
       "3                    7          140.61      3  moveis_escritorio   \n",
       "4                   10          137.58      4  moveis_escritorio   \n",
       "\n",
       "   categoria_ingles  cep_vendedor  cidade_vendedor  estado_vendedor  \n",
       "0  office_furniture          8577  itaquaquecetuba               SP  \n",
       "1  office_furniture          8577  itaquaquecetuba               SP  \n",
       "2  office_furniture          8577  itaquaquecetuba               SP  \n",
       "3  office_furniture          8577  itaquaquecetuba               SP  \n",
       "4  office_furniture          8577  itaquaquecetuba               SP  \n",
       "\n",
       "[5 rows x 27 columns]"
      ]
     },
     "execution_count": 3,
     "metadata": {},
     "output_type": "execute_result"
    }
   ],
   "source": [
    "df.head()"
   ]
  },
  {
   "cell_type": "markdown",
   "id": "e485de3f",
   "metadata": {},
   "source": [
    "# Construindo uma função para fazer uma visualização mais intuitiva das variáveis. "
   ]
  },
  {
   "cell_type": "code",
   "execution_count": 4,
   "id": "d8933156",
   "metadata": {},
   "outputs": [],
   "source": [
    "def plot_perc(st,dados):\n",
    "    plt.figure(figsize=(20,8))\n",
    "    \n",
    "    g = sns.countplot(x= st,data=dados,orient='h')\n",
    "    g.set_ylabel('Contagem',fontsize=17)\n",
    "    \n",
    "    sizes = []\n",
    "    \n",
    "    for p in g.patches:\n",
    "        height = p.get_height()\n",
    "        sizes.append(height)\n",
    "        g.text(p.get_x() + p.get_width()/1.6,\n",
    "              height+200,\n",
    "              '{:1.2f}%'.format(height/116581*100),\n",
    "              ha = 'center',va='bottom',fontsize=12)\n",
    "        \n",
    "    g.set_ylim(0,max(sizes)*1.1)"
   ]
  },
  {
   "cell_type": "markdown",
   "id": "64ca2ae6",
   "metadata": {},
   "source": [
    "## UFs dos clientes"
   ]
  },
  {
   "cell_type": "code",
   "execution_count": 5,
   "id": "42d9ac10",
   "metadata": {},
   "outputs": [
    {
     "data": {
      "image/png": "[encoded data removed]",
      "text/plain": [
       "<Figure size 1440x576 with 1 Axes>"
      ]
     },
     "metadata": {
      "needs_background": "light"
     },
     "output_type": "display_data"
    }
   ],
   "source": [
    "plot_perc('estado_cliente', df)\n",
    "# maioria de clientes em SP, seguido de RJ, MG e RS..."
   ]
  },
  {
   "cell_type": "markdown",
   "id": "a2cef6b2",
   "metadata": {},
   "source": [
    "## UFs dos vendedores"
   ]
  },
  {
   "cell_type": "code",
   "execution_count": 6,
   "id": "97a52865",
   "metadata": {},
   "outputs": [
    {
     "data": {
      "image/png": "[encoded data removed]",
      "text/plain": [
       "<Figure size 1440x576 with 1 Axes>"
      ]
     },
     "metadata": {
      "needs_background": "light"
     },
     "output_type": "display_data"
    }
   ],
   "source": [
    "plot_perc ('estado_vendedor',df)\n",
    "# maioria de vendedores em SP? \n",
    "# insight: poderíamos incentivar vendedores de outros estados."
   ]
  },
  {
   "cell_type": "markdown",
   "id": "05116a0a",
   "metadata": {},
   "source": [
    "## Tipos de pagamento"
   ]
  },
  {
   "cell_type": "code",
   "execution_count": 7,
   "id": "503dcde9",
   "metadata": {},
   "outputs": [
    {
     "data": {
      "image/png": "[encoded data removed]",
      "text/plain": [
       "<Figure size 1440x576 with 1 Axes>"
      ]
     },
     "metadata": {
      "needs_background": "light"
     },
     "output_type": "display_data"
    }
   ],
   "source": [
    "plot_perc('pagamento_tipo', df)\n",
    "# maioria de pagamentos em cartão de crédito \n",
    "# insight: poderíamos incentivar a compra à vista com promoções"
   ]
  },
  {
   "cell_type": "markdown",
   "id": "bef16c99",
   "metadata": {},
   "source": [
    "# Alguns indicadores que iremos analisar: "
   ]
  },
  {
   "cell_type": "markdown",
   "id": "0b49ab7d",
   "metadata": {},
   "source": [
    "> # Análise RFM\n",
    "\n",
    ">  ### Recência (R)\n",
    "> #### Há quantos dias foi a última compra desse cliente \n",
    "\n",
    ">  ### Frequência (F)\n",
    "> #### Quantas compras esse cliente já fez na sua empresa, desde que se cadastrou?\n",
    "\n",
    ">  ### Monetariedade (M)\n",
    "> #### Quanto esse cliente já gastou em dinheiro na sua empresa?"
   ]
  },
  {
   "cell_type": "markdown",
   "id": "97a4bf51",
   "metadata": {},
   "source": [
    "## Usando o pacote datetime"
   ]
  },
  {
   "cell_type": "code",
   "execution_count": 8,
   "id": "e88604da",
   "metadata": {},
   "outputs": [
    {
     "data": {
      "text/html": [
       "<div>\n",
       "<style scoped>\n",
       "    .dataframe tbody tr th:only-of-type {\n",
       "        vertical-align: middle;\n",
       "    }\n",
       "\n",
       "    .dataframe tbody tr th {\n",
       "        vertical-align: top;\n",
       "    }\n",
       "\n",
       "    .dataframe thead th {\n",
       "        text-align: right;\n",
       "    }\n",
       "</style>\n",
       "<table border=\"1\" class=\"dataframe\">\n",
       "  <thead>\n",
       "    <tr style=\"text-align: right;\">\n",
       "      <th></th>\n",
       "      <th>id_unico_cliente</th>\n",
       "      <th>id_cliente</th>\n",
       "      <th>horario_pedido</th>\n",
       "      <th>item_id</th>\n",
       "      <th>preco</th>\n",
       "    </tr>\n",
       "  </thead>\n",
       "  <tbody>\n",
       "    <tr>\n",
       "      <th>0</th>\n",
       "      <td>861eff4711a542e4b93843c6dd7febb0</td>\n",
       "      <td>06b8999e2fba1a1fbc88172c00ba8bc7</td>\n",
       "      <td>2017-05-16 15:05:35</td>\n",
       "      <td>1</td>\n",
       "      <td>124.99</td>\n",
       "    </tr>\n",
       "    <tr>\n",
       "      <th>1</th>\n",
       "      <td>9eae34bbd3a474ec5d07949ca7de67c0</td>\n",
       "      <td>8912fc0c3bbf1e2fbf35819e21706718</td>\n",
       "      <td>2017-11-09 00:50:13</td>\n",
       "      <td>1</td>\n",
       "      <td>112.99</td>\n",
       "    </tr>\n",
       "    <tr>\n",
       "      <th>2</th>\n",
       "      <td>9eae34bbd3a474ec5d07949ca7de67c0</td>\n",
       "      <td>8912fc0c3bbf1e2fbf35819e21706718</td>\n",
       "      <td>2017-11-09 00:50:13</td>\n",
       "      <td>2</td>\n",
       "      <td>112.99</td>\n",
       "    </tr>\n",
       "    <tr>\n",
       "      <th>3</th>\n",
       "      <td>3c799d181c34d51f6d44bbbc563024db</td>\n",
       "      <td>f0ac8e5a239118859b1734e1087cbb1f</td>\n",
       "      <td>2017-05-07 20:11:26</td>\n",
       "      <td>1</td>\n",
       "      <td>124.99</td>\n",
       "    </tr>\n",
       "    <tr>\n",
       "      <th>4</th>\n",
       "      <td>23397e992b09769faf5e66f9e171a241</td>\n",
       "      <td>6bc8d08963a135220ed6c6d098831f84</td>\n",
       "      <td>2018-02-03 19:45:40</td>\n",
       "      <td>1</td>\n",
       "      <td>106.99</td>\n",
       "    </tr>\n",
       "  </tbody>\n",
       "</table>\n",
       "</div>"
      ],
      "text/plain": [
       "                   id_unico_cliente                        id_cliente  \\\n",
       "0  861eff4711a542e4b93843c6dd7febb0  06b8999e2fba1a1fbc88172c00ba8bc7   \n",
       "1  9eae34bbd3a474ec5d07949ca7de67c0  8912fc0c3bbf1e2fbf35819e21706718   \n",
       "2  9eae34bbd3a474ec5d07949ca7de67c0  8912fc0c3bbf1e2fbf35819e21706718   \n",
       "3  3c799d181c34d51f6d44bbbc563024db  f0ac8e5a239118859b1734e1087cbb1f   \n",
       "4  23397e992b09769faf5e66f9e171a241  6bc8d08963a135220ed6c6d098831f84   \n",
       "\n",
       "        horario_pedido  item_id   preco  \n",
       "0  2017-05-16 15:05:35        1  124.99  \n",
       "1  2017-11-09 00:50:13        1  112.99  \n",
       "2  2017-11-09 00:50:13        2  112.99  \n",
       "3  2017-05-07 20:11:26        1  124.99  \n",
       "4  2018-02-03 19:45:40        1  106.99  "
      ]
     },
     "execution_count": 8,
     "metadata": {},
     "output_type": "execute_result"
    }
   ],
   "source": [
    "df_olist = df[['id_unico_cliente','id_cliente','horario_pedido','item_id','preco']]\n",
    "df_olist.head() ## novos dados. selecionamos apenas algumas variáveis.\n"
   ]
  },
  {
   "cell_type": "code",
   "execution_count": 9,
   "id": "eb6292fc",
   "metadata": {},
   "outputs": [],
   "source": [
    "df_compra = df.groupby(df['id_unico_cliente']).horario_pedido.max().reset_index()\n",
    "#df_teste = df.groupby(df['id_unico_cliente']).horario_pedido.max().reset_index()\n",
    "#df_teste.info()"
   ]
  },
  {
   "cell_type": "code",
   "execution_count": 10,
   "id": "86731a2c",
   "metadata": {},
   "outputs": [
    {
     "data": {
      "text/html": [
       "<div>\n",
       "<style scoped>\n",
       "    .dataframe tbody tr th:only-of-type {\n",
       "        vertical-align: middle;\n",
       "    }\n",
       "\n",
       "    .dataframe tbody tr th {\n",
       "        vertical-align: top;\n",
       "    }\n",
       "\n",
       "    .dataframe thead th {\n",
       "        text-align: right;\n",
       "    }\n",
       "</style>\n",
       "<table border=\"1\" class=\"dataframe\">\n",
       "  <thead>\n",
       "    <tr style=\"text-align: right;\">\n",
       "      <th></th>\n",
       "      <th>id_unico_cliente</th>\n",
       "      <th>DataMaxCompra</th>\n",
       "    </tr>\n",
       "  </thead>\n",
       "  <tbody>\n",
       "    <tr>\n",
       "      <th>0</th>\n",
       "      <td>0000366f3b9a7992bf8c76cfdf3221e2</td>\n",
       "      <td>2018-05-10 10:56:27</td>\n",
       "    </tr>\n",
       "    <tr>\n",
       "      <th>1</th>\n",
       "      <td>0000b849f77a49e4a4ce2b2a4ca5be3f</td>\n",
       "      <td>2018-05-07 11:11:27</td>\n",
       "    </tr>\n",
       "    <tr>\n",
       "      <th>2</th>\n",
       "      <td>0000f46a3911fa3c0805444483337064</td>\n",
       "      <td>2017-03-10 21:05:03</td>\n",
       "    </tr>\n",
       "    <tr>\n",
       "      <th>3</th>\n",
       "      <td>0000f6ccb0745a6a4b88665a16c9f078</td>\n",
       "      <td>2017-10-12 20:29:41</td>\n",
       "    </tr>\n",
       "    <tr>\n",
       "      <th>4</th>\n",
       "      <td>0004aac84e0df4da2b147fca70cf8255</td>\n",
       "      <td>2017-11-14 19:45:42</td>\n",
       "    </tr>\n",
       "  </tbody>\n",
       "</table>\n",
       "</div>"
      ],
      "text/plain": [
       "                   id_unico_cliente        DataMaxCompra\n",
       "0  0000366f3b9a7992bf8c76cfdf3221e2  2018-05-10 10:56:27\n",
       "1  0000b849f77a49e4a4ce2b2a4ca5be3f  2018-05-07 11:11:27\n",
       "2  0000f46a3911fa3c0805444483337064  2017-03-10 21:05:03\n",
       "3  0000f6ccb0745a6a4b88665a16c9f078  2017-10-12 20:29:41\n",
       "4  0004aac84e0df4da2b147fca70cf8255  2017-11-14 19:45:42"
      ]
     },
     "execution_count": 10,
     "metadata": {},
     "output_type": "execute_result"
    }
   ],
   "source": [
    "df_compra.columns = ['id_unico_cliente', 'DataMaxCompra'] #renomeando as colunas\n",
    "df_compra.head() "
   ]
  },
  {
   "cell_type": "code",
   "execution_count": 11,
   "id": "c8841404",
   "metadata": {},
   "outputs": [
    {
     "data": {
      "text/html": [
       "<div>\n",
       "<style scoped>\n",
       "    .dataframe tbody tr th:only-of-type {\n",
       "        vertical-align: middle;\n",
       "    }\n",
       "\n",
       "    .dataframe tbody tr th {\n",
       "        vertical-align: top;\n",
       "    }\n",
       "\n",
       "    .dataframe thead th {\n",
       "        text-align: right;\n",
       "    }\n",
       "</style>\n",
       "<table border=\"1\" class=\"dataframe\">\n",
       "  <thead>\n",
       "    <tr style=\"text-align: right;\">\n",
       "      <th></th>\n",
       "      <th>id_unico_cliente</th>\n",
       "      <th>DataMaxCompra</th>\n",
       "    </tr>\n",
       "  </thead>\n",
       "  <tbody>\n",
       "    <tr>\n",
       "      <th>0</th>\n",
       "      <td>0000366f3b9a7992bf8c76cfdf3221e2</td>\n",
       "      <td>2018-05-10 10:56:27</td>\n",
       "    </tr>\n",
       "    <tr>\n",
       "      <th>1</th>\n",
       "      <td>0000b849f77a49e4a4ce2b2a4ca5be3f</td>\n",
       "      <td>2018-05-07 11:11:27</td>\n",
       "    </tr>\n",
       "    <tr>\n",
       "      <th>2</th>\n",
       "      <td>0000f46a3911fa3c0805444483337064</td>\n",
       "      <td>2017-03-10 21:05:03</td>\n",
       "    </tr>\n",
       "    <tr>\n",
       "      <th>3</th>\n",
       "      <td>0000f6ccb0745a6a4b88665a16c9f078</td>\n",
       "      <td>2017-10-12 20:29:41</td>\n",
       "    </tr>\n",
       "    <tr>\n",
       "      <th>4</th>\n",
       "      <td>0004aac84e0df4da2b147fca70cf8255</td>\n",
       "      <td>2017-11-14 19:45:42</td>\n",
       "    </tr>\n",
       "  </tbody>\n",
       "</table>\n",
       "</div>"
      ],
      "text/plain": [
       "                   id_unico_cliente       DataMaxCompra\n",
       "0  0000366f3b9a7992bf8c76cfdf3221e2 2018-05-10 10:56:27\n",
       "1  0000b849f77a49e4a4ce2b2a4ca5be3f 2018-05-07 11:11:27\n",
       "2  0000f46a3911fa3c0805444483337064 2017-03-10 21:05:03\n",
       "3  0000f6ccb0745a6a4b88665a16c9f078 2017-10-12 20:29:41\n",
       "4  0004aac84e0df4da2b147fca70cf8255 2017-11-14 19:45:42"
      ]
     },
     "execution_count": 11,
     "metadata": {},
     "output_type": "execute_result"
    }
   ],
   "source": [
    "df_compra['DataMaxCompra'] = pd.to_datetime(df_compra['DataMaxCompra'])\n",
    "df_compra.head() # aplicando a função to_datetime do pandas, converte um objeto em objeto datetime\n"
   ]
  },
  {
   "cell_type": "markdown",
   "id": "299d280a",
   "metadata": {},
   "source": [
    "## Calculando a Recência tomando como referência o último dia em que foi cadastrada uma nova compra na base de dados"
   ]
  },
  {
   "cell_type": "code",
   "execution_count": 12,
   "id": "e1a07423",
   "metadata": {},
   "outputs": [
    {
     "data": {
      "text/html": [
       "<div>\n",
       "<style scoped>\n",
       "    .dataframe tbody tr th:only-of-type {\n",
       "        vertical-align: middle;\n",
       "    }\n",
       "\n",
       "    .dataframe tbody tr th {\n",
       "        vertical-align: top;\n",
       "    }\n",
       "\n",
       "    .dataframe thead th {\n",
       "        text-align: right;\n",
       "    }\n",
       "</style>\n",
       "<table border=\"1\" class=\"dataframe\">\n",
       "  <thead>\n",
       "    <tr style=\"text-align: right;\">\n",
       "      <th></th>\n",
       "      <th>id_unico_cliente</th>\n",
       "      <th>DataMaxCompra</th>\n",
       "      <th>Recencia</th>\n",
       "    </tr>\n",
       "  </thead>\n",
       "  <tbody>\n",
       "    <tr>\n",
       "      <th>0</th>\n",
       "      <td>0000366f3b9a7992bf8c76cfdf3221e2</td>\n",
       "      <td>2018-05-10 10:56:27</td>\n",
       "      <td>115</td>\n",
       "    </tr>\n",
       "    <tr>\n",
       "      <th>1</th>\n",
       "      <td>0000b849f77a49e4a4ce2b2a4ca5be3f</td>\n",
       "      <td>2018-05-07 11:11:27</td>\n",
       "      <td>118</td>\n",
       "    </tr>\n",
       "    <tr>\n",
       "      <th>2</th>\n",
       "      <td>0000f46a3911fa3c0805444483337064</td>\n",
       "      <td>2017-03-10 21:05:03</td>\n",
       "      <td>541</td>\n",
       "    </tr>\n",
       "    <tr>\n",
       "      <th>3</th>\n",
       "      <td>0000f6ccb0745a6a4b88665a16c9f078</td>\n",
       "      <td>2017-10-12 20:29:41</td>\n",
       "      <td>325</td>\n",
       "    </tr>\n",
       "    <tr>\n",
       "      <th>4</th>\n",
       "      <td>0004aac84e0df4da2b147fca70cf8255</td>\n",
       "      <td>2017-11-14 19:45:42</td>\n",
       "      <td>292</td>\n",
       "    </tr>\n",
       "  </tbody>\n",
       "</table>\n",
       "</div>"
      ],
      "text/plain": [
       "                   id_unico_cliente       DataMaxCompra  Recencia\n",
       "0  0000366f3b9a7992bf8c76cfdf3221e2 2018-05-10 10:56:27       115\n",
       "1  0000b849f77a49e4a4ce2b2a4ca5be3f 2018-05-07 11:11:27       118\n",
       "2  0000f46a3911fa3c0805444483337064 2017-03-10 21:05:03       541\n",
       "3  0000f6ccb0745a6a4b88665a16c9f078 2017-10-12 20:29:41       325\n",
       "4  0004aac84e0df4da2b147fca70cf8255 2017-11-14 19:45:42       292"
      ]
     },
     "execution_count": 12,
     "metadata": {},
     "output_type": "execute_result"
    }
   ],
   "source": [
    "df_compra['Recencia'] = (df_compra['DataMaxCompra'].max() - df_compra['DataMaxCompra']).dt.days\n",
    "# pego como referência a compra mais recente no banco de dados para contar há quantos dias\n",
    "# foi a última compra de cada cliente. \n",
    "\n",
    "df_compra.head()"
   ]
  },
  {
   "cell_type": "code",
   "execution_count": 13,
   "id": "d8b91998",
   "metadata": {},
   "outputs": [
    {
     "data": {
      "text/plain": [
       "Int64Index([93757], dtype='int64')"
      ]
     },
     "execution_count": 13,
     "metadata": {},
     "output_type": "execute_result"
    }
   ],
   "source": [
    "df_compra.index[df_compra['Recencia'] == 0]"
   ]
  },
  {
   "cell_type": "code",
   "execution_count": 14,
   "id": "09b6523c",
   "metadata": {},
   "outputs": [
    {
     "data": {
      "text/plain": [
       "id_unico_cliente    ff22e30958c13ffe219db7d711e8f564\n",
       "DataMaxCompra                    2018-09-03 09:06:57\n",
       "Recencia                                           0\n",
       "Name: 93757, dtype: object"
      ]
     },
     "execution_count": 14,
     "metadata": {},
     "output_type": "execute_result"
    }
   ],
   "source": [
    "df_compra.iloc[93757]"
   ]
  },
  {
   "cell_type": "code",
   "execution_count": 15,
   "id": "b9af9405",
   "metadata": {},
   "outputs": [
    {
     "data": {
      "text/plain": [
       "Timestamp('2018-09-03 09:06:57')"
      ]
     },
     "execution_count": 15,
     "metadata": {},
     "output_type": "execute_result"
    }
   ],
   "source": [
    "df_compra['DataMaxCompra'].max()"
   ]
  },
  {
   "cell_type": "markdown",
   "id": "bd402db2",
   "metadata": {},
   "source": [
    "### -------------------------------------------------------------------------------------------------------------------------"
   ]
  },
  {
   "cell_type": "markdown",
   "id": "e10fb776",
   "metadata": {},
   "source": [
    "## Unindo o df_compra com o df_olist\n",
    "\n",
    "\n"
   ]
  },
  {
   "cell_type": "code",
   "execution_count": 16,
   "id": "2dec9f95",
   "metadata": {},
   "outputs": [
    {
     "data": {
      "text/html": [
       "<div>\n",
       "<style scoped>\n",
       "    .dataframe tbody tr th:only-of-type {\n",
       "        vertical-align: middle;\n",
       "    }\n",
       "\n",
       "    .dataframe tbody tr th {\n",
       "        vertical-align: top;\n",
       "    }\n",
       "\n",
       "    .dataframe thead th {\n",
       "        text-align: right;\n",
       "    }\n",
       "</style>\n",
       "<table border=\"1\" class=\"dataframe\">\n",
       "  <thead>\n",
       "    <tr style=\"text-align: right;\">\n",
       "      <th></th>\n",
       "      <th>id_unico_cliente</th>\n",
       "      <th>id_cliente</th>\n",
       "      <th>horario_pedido</th>\n",
       "      <th>item_id</th>\n",
       "      <th>preco</th>\n",
       "      <th>Recencia</th>\n",
       "    </tr>\n",
       "  </thead>\n",
       "  <tbody>\n",
       "    <tr>\n",
       "      <th>101036</th>\n",
       "      <td>d07fdfa2b78ab36b0f339706aa4f5a09</td>\n",
       "      <td>05f830d6d4afd135824b04ce45d20f00</td>\n",
       "      <td>2017-12-05 21:26:28</td>\n",
       "      <td>1</td>\n",
       "      <td>22.80</td>\n",
       "      <td>271</td>\n",
       "    </tr>\n",
       "    <tr>\n",
       "      <th>51107</th>\n",
       "      <td>a88ddb886ec892589db987f01cf9b747</td>\n",
       "      <td>1287bb4d651bd96d3b090a92997ae7ea</td>\n",
       "      <td>2017-03-20 14:44:16</td>\n",
       "      <td>1</td>\n",
       "      <td>90.50</td>\n",
       "      <td>531</td>\n",
       "    </tr>\n",
       "    <tr>\n",
       "      <th>99800</th>\n",
       "      <td>f9ddad97b1a41864dbf8b1dc6bcc028f</td>\n",
       "      <td>cd1b76220f1ef8834081af5831663e44</td>\n",
       "      <td>2017-10-12 08:41:46</td>\n",
       "      <td>1</td>\n",
       "      <td>59.90</td>\n",
       "      <td>326</td>\n",
       "    </tr>\n",
       "    <tr>\n",
       "      <th>32248</th>\n",
       "      <td>9cf6dec2e760c65ea7cb496593d3af57</td>\n",
       "      <td>27252cd6ebbc6360b155eea3fa40ee70</td>\n",
       "      <td>2017-05-18 18:10:03</td>\n",
       "      <td>1</td>\n",
       "      <td>48.90</td>\n",
       "      <td>472</td>\n",
       "    </tr>\n",
       "    <tr>\n",
       "      <th>96684</th>\n",
       "      <td>b3c9b7344ef8e0ec9560dfe3cccd0b5e</td>\n",
       "      <td>7082edd9f78fb9d07560b4f9d65f7095</td>\n",
       "      <td>2017-10-03 21:27:23</td>\n",
       "      <td>1</td>\n",
       "      <td>359.00</td>\n",
       "      <td>334</td>\n",
       "    </tr>\n",
       "    <tr>\n",
       "      <th>16816</th>\n",
       "      <td>7575dad0caa94d97f8e293ad8f3c676f</td>\n",
       "      <td>d3ddbbd220a088a3e353cd270c184e60</td>\n",
       "      <td>2018-08-09 17:18:57</td>\n",
       "      <td>1</td>\n",
       "      <td>89.00</td>\n",
       "      <td>24</td>\n",
       "    </tr>\n",
       "    <tr>\n",
       "      <th>32349</th>\n",
       "      <td>baa50e17cfa4f8b6b85de04660cecd40</td>\n",
       "      <td>51099d172d85ee8e5693acfcbbd0f0a9</td>\n",
       "      <td>2017-03-30 22:38:45</td>\n",
       "      <td>1</td>\n",
       "      <td>65.90</td>\n",
       "      <td>521</td>\n",
       "    </tr>\n",
       "    <tr>\n",
       "      <th>60149</th>\n",
       "      <td>b2e9a05d23ea17713b5d7799f2004f8e</td>\n",
       "      <td>0b42763d66e65a34f6e2978facaf93da</td>\n",
       "      <td>2018-07-26 14:26:07</td>\n",
       "      <td>6</td>\n",
       "      <td>15.00</td>\n",
       "      <td>36</td>\n",
       "    </tr>\n",
       "    <tr>\n",
       "      <th>39124</th>\n",
       "      <td>ea13a9158374ce67973f439aa9fa5a6f</td>\n",
       "      <td>5c51bb8cca78612d40a130b05279cd5d</td>\n",
       "      <td>2017-05-25 17:46:31</td>\n",
       "      <td>1</td>\n",
       "      <td>259.99</td>\n",
       "      <td>465</td>\n",
       "    </tr>\n",
       "    <tr>\n",
       "      <th>108634</th>\n",
       "      <td>b9c898145cb368ed02e3c302eb42ab7d</td>\n",
       "      <td>2d0eb4225831ecebc89c64829e35c31d</td>\n",
       "      <td>2017-11-15 14:16:19</td>\n",
       "      <td>1</td>\n",
       "      <td>65.99</td>\n",
       "      <td>291</td>\n",
       "    </tr>\n",
       "  </tbody>\n",
       "</table>\n",
       "</div>"
      ],
      "text/plain": [
       "                        id_unico_cliente                        id_cliente  \\\n",
       "101036  d07fdfa2b78ab36b0f339706aa4f5a09  05f830d6d4afd135824b04ce45d20f00   \n",
       "51107   a88ddb886ec892589db987f01cf9b747  1287bb4d651bd96d3b090a92997ae7ea   \n",
       "99800   f9ddad97b1a41864dbf8b1dc6bcc028f  cd1b76220f1ef8834081af5831663e44   \n",
       "32248   9cf6dec2e760c65ea7cb496593d3af57  27252cd6ebbc6360b155eea3fa40ee70   \n",
       "96684   b3c9b7344ef8e0ec9560dfe3cccd0b5e  7082edd9f78fb9d07560b4f9d65f7095   \n",
       "16816   7575dad0caa94d97f8e293ad8f3c676f  d3ddbbd220a088a3e353cd270c184e60   \n",
       "32349   baa50e17cfa4f8b6b85de04660cecd40  51099d172d85ee8e5693acfcbbd0f0a9   \n",
       "60149   b2e9a05d23ea17713b5d7799f2004f8e  0b42763d66e65a34f6e2978facaf93da   \n",
       "39124   ea13a9158374ce67973f439aa9fa5a6f  5c51bb8cca78612d40a130b05279cd5d   \n",
       "108634  b9c898145cb368ed02e3c302eb42ab7d  2d0eb4225831ecebc89c64829e35c31d   \n",
       "\n",
       "             horario_pedido  item_id   preco  Recencia  \n",
       "101036  2017-12-05 21:26:28        1   22.80       271  \n",
       "51107   2017-03-20 14:44:16        1   90.50       531  \n",
       "99800   2017-10-12 08:41:46        1   59.90       326  \n",
       "32248   2017-05-18 18:10:03        1   48.90       472  \n",
       "96684   2017-10-03 21:27:23        1  359.00       334  \n",
       "16816   2018-08-09 17:18:57        1   89.00        24  \n",
       "32349   2017-03-30 22:38:45        1   65.90       521  \n",
       "60149   2018-07-26 14:26:07        6   15.00        36  \n",
       "39124   2017-05-25 17:46:31        1  259.99       465  \n",
       "108634  2017-11-15 14:16:19        1   65.99       291  "
      ]
     },
     "execution_count": 16,
     "metadata": {},
     "output_type": "execute_result"
    }
   ],
   "source": [
    "df_usuario = pd.merge(df_olist, df_compra[['id_unico_cliente', 'Recencia']], on = 'id_unico_cliente')\n",
    "df_usuario.sample(10)\n",
    "# vamos usar somente as variáveis 'id_unico_cliente' e 'Recencia' do df_compra. "
   ]
  },
  {
   "cell_type": "markdown",
   "id": "696c5687",
   "metadata": {},
   "source": [
    "## Vamos CLUSTERIZAR os dados a partir da RECÊNCIA,\n",
    "### Conceitos de Elbow Method"
   ]
  },
  {
   "cell_type": "code",
   "execution_count": 17,
   "id": "19fff669",
   "metadata": {},
   "outputs": [],
   "source": [
    "def calcular_wcss(data):\n",
    "    wcss = [] #criando um vetor vazio\n",
    "    for k in range(1,10): #  10 = quantidade de clusters. É um chute e pode ser alterado. \n",
    "        kmeans = KMeans(n_clusters = k)\n",
    "        kmeans.fit(X=data)\n",
    "        data['Clusters']=kmeans.labels_ #labels_ dá o cluster ao qual aquele id_cliente pertence.\n",
    "        wcss.append(kmeans.inertia_) #inertia_ é uma função do kmeans que retorna a soma dos quadrados. \n",
    "                                  # Faremos para n_clusters = 2,3,4...10 \n",
    "    return wcss"
   ]
  },
  {
   "cell_type": "code",
   "execution_count": 18,
   "id": "b497d27e",
   "metadata": {
    "scrolled": true
   },
   "outputs": [],
   "source": [
    "from sklearn.cluster import KMeans"
   ]
  },
  {
   "cell_type": "code",
   "execution_count": 19,
   "id": "017f216a",
   "metadata": {},
   "outputs": [
    {
     "data": {
      "text/html": [
       "<div>\n",
       "<style scoped>\n",
       "    .dataframe tbody tr th:only-of-type {\n",
       "        vertical-align: middle;\n",
       "    }\n",
       "\n",
       "    .dataframe tbody tr th {\n",
       "        vertical-align: top;\n",
       "    }\n",
       "\n",
       "    .dataframe thead th {\n",
       "        text-align: right;\n",
       "    }\n",
       "</style>\n",
       "<table border=\"1\" class=\"dataframe\">\n",
       "  <thead>\n",
       "    <tr style=\"text-align: right;\">\n",
       "      <th></th>\n",
       "      <th>Recencia</th>\n",
       "    </tr>\n",
       "  </thead>\n",
       "  <tbody>\n",
       "    <tr>\n",
       "      <th>0</th>\n",
       "      <td>474</td>\n",
       "    </tr>\n",
       "    <tr>\n",
       "      <th>1</th>\n",
       "      <td>298</td>\n",
       "    </tr>\n",
       "    <tr>\n",
       "      <th>2</th>\n",
       "      <td>298</td>\n",
       "    </tr>\n",
       "    <tr>\n",
       "      <th>3</th>\n",
       "      <td>483</td>\n",
       "    </tr>\n",
       "    <tr>\n",
       "      <th>4</th>\n",
       "      <td>211</td>\n",
       "    </tr>\n",
       "  </tbody>\n",
       "</table>\n",
       "</div>"
      ],
      "text/plain": [
       "   Recencia\n",
       "0       474\n",
       "1       298\n",
       "2       298\n",
       "3       483\n",
       "4       211"
      ]
     },
     "execution_count": 19,
     "metadata": {},
     "output_type": "execute_result"
    }
   ],
   "source": [
    "df_recencia = df_usuario[['Recencia']] # criando um DF apenas com os valores de Recencia.\n",
    "df_recencia.head()"
   ]
  },
  {
   "cell_type": "code",
   "execution_count": 20,
   "id": "783de3a1",
   "metadata": {},
   "outputs": [
    {
     "name": "stderr",
     "output_type": "stream",
     "text": [
      "/tmp/ipykernel_146463/288437329.py:6: SettingWithCopyWarning: \n",
      "A value is trying to be set on a copy of a slice from a DataFrame.\n",
      "Try using .loc[row_indexer,col_indexer] = value instead\n",
      "\n",
      "See the caveats in the documentation: https://pandas.pydata.org/pandas-docs/stable/user_guide/indexing.html#returning-a-view-versus-a-copy\n",
      "  data['Clusters']=kmeans.labels_ #labels_ dá o cluster ao qual aquele id_cliente pertence.\n",
      "/tmp/ipykernel_146463/288437329.py:6: SettingWithCopyWarning: \n",
      "A value is trying to be set on a copy of a slice from a DataFrame.\n",
      "Try using .loc[row_indexer,col_indexer] = value instead\n",
      "\n",
      "See the caveats in the documentation: https://pandas.pydata.org/pandas-docs/stable/user_guide/indexing.html#returning-a-view-versus-a-copy\n",
      "  data['Clusters']=kmeans.labels_ #labels_ dá o cluster ao qual aquele id_cliente pertence.\n",
      "/tmp/ipykernel_146463/288437329.py:6: SettingWithCopyWarning: \n",
      "A value is trying to be set on a copy of a slice from a DataFrame.\n",
      "Try using .loc[row_indexer,col_indexer] = value instead\n",
      "\n",
      "See the caveats in the documentation: https://pandas.pydata.org/pandas-docs/stable/user_guide/indexing.html#returning-a-view-versus-a-copy\n",
      "  data['Clusters']=kmeans.labels_ #labels_ dá o cluster ao qual aquele id_cliente pertence.\n",
      "/tmp/ipykernel_146463/288437329.py:6: SettingWithCopyWarning: \n",
      "A value is trying to be set on a copy of a slice from a DataFrame.\n",
      "Try using .loc[row_indexer,col_indexer] = value instead\n",
      "\n",
      "See the caveats in the documentation: https://pandas.pydata.org/pandas-docs/stable/user_guide/indexing.html#returning-a-view-versus-a-copy\n",
      "  data['Clusters']=kmeans.labels_ #labels_ dá o cluster ao qual aquele id_cliente pertence.\n",
      "/tmp/ipykernel_146463/288437329.py:6: SettingWithCopyWarning: \n",
      "A value is trying to be set on a copy of a slice from a DataFrame.\n",
      "Try using .loc[row_indexer,col_indexer] = value instead\n",
      "\n",
      "See the caveats in the documentation: https://pandas.pydata.org/pandas-docs/stable/user_guide/indexing.html#returning-a-view-versus-a-copy\n",
      "  data['Clusters']=kmeans.labels_ #labels_ dá o cluster ao qual aquele id_cliente pertence.\n",
      "/tmp/ipykernel_146463/288437329.py:6: SettingWithCopyWarning: \n",
      "A value is trying to be set on a copy of a slice from a DataFrame.\n",
      "Try using .loc[row_indexer,col_indexer] = value instead\n",
      "\n",
      "See the caveats in the documentation: https://pandas.pydata.org/pandas-docs/stable/user_guide/indexing.html#returning-a-view-versus-a-copy\n",
      "  data['Clusters']=kmeans.labels_ #labels_ dá o cluster ao qual aquele id_cliente pertence.\n",
      "/tmp/ipykernel_146463/288437329.py:6: SettingWithCopyWarning: \n",
      "A value is trying to be set on a copy of a slice from a DataFrame.\n",
      "Try using .loc[row_indexer,col_indexer] = value instead\n",
      "\n",
      "See the caveats in the documentation: https://pandas.pydata.org/pandas-docs/stable/user_guide/indexing.html#returning-a-view-versus-a-copy\n",
      "  data['Clusters']=kmeans.labels_ #labels_ dá o cluster ao qual aquele id_cliente pertence.\n",
      "/tmp/ipykernel_146463/288437329.py:6: SettingWithCopyWarning: \n",
      "A value is trying to be set on a copy of a slice from a DataFrame.\n",
      "Try using .loc[row_indexer,col_indexer] = value instead\n",
      "\n",
      "See the caveats in the documentation: https://pandas.pydata.org/pandas-docs/stable/user_guide/indexing.html#returning-a-view-versus-a-copy\n",
      "  data['Clusters']=kmeans.labels_ #labels_ dá o cluster ao qual aquele id_cliente pertence.\n",
      "/tmp/ipykernel_146463/288437329.py:6: SettingWithCopyWarning: \n",
      "A value is trying to be set on a copy of a slice from a DataFrame.\n",
      "Try using .loc[row_indexer,col_indexer] = value instead\n",
      "\n",
      "See the caveats in the documentation: https://pandas.pydata.org/pandas-docs/stable/user_guide/indexing.html#returning-a-view-versus-a-copy\n",
      "  data['Clusters']=kmeans.labels_ #labels_ dá o cluster ao qual aquele id_cliente pertence.\n"
     ]
    },
    {
     "data": {
      "text/plain": [
       "[2733029504.942882,\n",
       " 807902990.2845452,\n",
       " 362053130.0620208,\n",
       " 213835574.30462363,\n",
       " 135886903.30292425,\n",
       " 96312289.57688175,\n",
       " 69805799.92426102,\n",
       " 55761382.70317302,\n",
       " 44173417.65566618]"
      ]
     },
     "execution_count": 20,
     "metadata": {},
     "output_type": "execute_result"
    }
   ],
   "source": [
    "# Calculando as inércias para n clusters\n",
    "soma_quadrados = calcular_wcss(df_recencia)\n",
    "soma_quadrados"
   ]
  },
  {
   "cell_type": "markdown",
   "id": "3eea2b59",
   "metadata": {},
   "source": [
    "> ## Forma da curva de inércia. 3 ou 4 parecem números adequados para o número de clusters"
   ]
  },
  {
   "cell_type": "code",
   "execution_count": 21,
   "id": "17a1c590",
   "metadata": {
    "scrolled": true
   },
   "outputs": [
    {
     "data": {
      "image/png": "[encoded data removed]",
      "text/plain": [
       "<Figure size 720x360 with 1 Axes>"
      ]
     },
     "metadata": {
      "needs_background": "light"
     },
     "output_type": "display_data"
    }
   ],
   "source": [
    "x = np.arange(1,10)\n",
    "plt.figure(figsize=(10,5))\n",
    "plt.plot(x,soma_quadrados)\n",
    "plt.xlabel('Número de clusters (k)')\n",
    "plt.show()  "
   ]
  },
  {
   "cell_type": "code",
   "execution_count": 22,
   "id": "84bcf553",
   "metadata": {},
   "outputs": [],
   "source": [
    "# Codificando a função. Nessa função os índices 0 e 1 representam o primeiro e o último n_cluster, respectivamente.\n",
    "# e os elementos x e y que aparecem sem índice são a posição (x,y) do n_cluster com o qual o cálculo está sendo feito\n",
    "# Esse cálculo é feito para todos os n_clusters na curva do cotovelo e toma-se como ótimo aquele que tem\n",
    "# a maior distância até a reta traçada. "
   ]
  },
  {
   "cell_type": "code",
   "execution_count": 23,
   "id": "f618e770",
   "metadata": {},
   "outputs": [],
   "source": [
    "import math \n",
    "\n",
    "def numero_max_clusters(wcss):\n",
    "    x1, y1 = 2, wcss[1] # Po = começando de 2 clusters. Coloquei a inércia de n=2, wcss[1].\n",
    "    x2, y2 = 9, wcss[len(wcss)-1] #último ponto. O último índice é o len(objeto)-1, pois a contagem começa em 0.\n",
    "    \n",
    "    distancia = []\n",
    "    for i in range(1,len(wcss)): # range vai de 0 a 'último' - 1:  range (5) = 0,1,2,3,4\n",
    "        x0 = i+1\n",
    "        y0 = wcss[i] # o len(wcss) = 9, mas só vai até i = 8, um antes. \n",
    "        numerador = abs((y2 - y1)*x0 - (x2 - x1)*y0 + x2*y1 - y2*x1)\n",
    "        denominador = math.sqrt((y2 - y1)**2 + (x2 - x1)**2)\n",
    "        distancia.append(numerador/denominador)\n",
    "    \n",
    "    return distancia.index(max(distancia)) +2, len(distancia) "
   ]
  },
  {
   "cell_type": "markdown",
   "id": "07f43bbe",
   "metadata": {},
   "source": [
    "## Número ótimo de clusters = 4"
   ]
  },
  {
   "cell_type": "code",
   "execution_count": 24,
   "id": "a155b477",
   "metadata": {},
   "outputs": [
    {
     "data": {
      "text/plain": [
       "(4, 8)"
      ]
     },
     "execution_count": 24,
     "metadata": {},
     "output_type": "execute_result"
    }
   ],
   "source": [
    "numero_max_clusters(soma_quadrados)"
   ]
  },
  {
   "cell_type": "code",
   "execution_count": 25,
   "id": "cca84b08",
   "metadata": {},
   "outputs": [],
   "source": [
    "kmeans = KMeans(n_clusters = 4)"
   ]
  },
  {
   "cell_type": "code",
   "execution_count": 26,
   "id": "a92f575d",
   "metadata": {},
   "outputs": [
    {
     "data": {
      "text/html": [
       "<div>\n",
       "<style scoped>\n",
       "    .dataframe tbody tr th:only-of-type {\n",
       "        vertical-align: middle;\n",
       "    }\n",
       "\n",
       "    .dataframe tbody tr th {\n",
       "        vertical-align: top;\n",
       "    }\n",
       "\n",
       "    .dataframe thead th {\n",
       "        text-align: right;\n",
       "    }\n",
       "</style>\n",
       "<table border=\"1\" class=\"dataframe\">\n",
       "  <thead>\n",
       "    <tr style=\"text-align: right;\">\n",
       "      <th></th>\n",
       "      <th>id_unico_cliente</th>\n",
       "      <th>id_cliente</th>\n",
       "      <th>horario_pedido</th>\n",
       "      <th>item_id</th>\n",
       "      <th>preco</th>\n",
       "      <th>Recencia</th>\n",
       "      <th>RecenciaCluster</th>\n",
       "    </tr>\n",
       "  </thead>\n",
       "  <tbody>\n",
       "    <tr>\n",
       "      <th>53818</th>\n",
       "      <td>a0dc0910971f4c957ca0d19416566c47</td>\n",
       "      <td>4bb0b800e2bafd5b1df51ea1e45e780b</td>\n",
       "      <td>2017-03-24 10:53:14</td>\n",
       "      <td>1</td>\n",
       "      <td>189.9</td>\n",
       "      <td>527</td>\n",
       "      <td>1</td>\n",
       "    </tr>\n",
       "    <tr>\n",
       "      <th>59283</th>\n",
       "      <td>d557b0de499fba598492f6c77b8b56ab</td>\n",
       "      <td>1737ebe20c3faf8da6877df534f55e0a</td>\n",
       "      <td>2018-01-03 17:17:52</td>\n",
       "      <td>1</td>\n",
       "      <td>59.9</td>\n",
       "      <td>242</td>\n",
       "      <td>0</td>\n",
       "    </tr>\n",
       "    <tr>\n",
       "      <th>77528</th>\n",
       "      <td>54de682f0fdd9e588983277f98bdd15d</td>\n",
       "      <td>09aac084452bfe2880d35d02858aa98e</td>\n",
       "      <td>2017-06-22 22:22:55</td>\n",
       "      <td>1</td>\n",
       "      <td>95.0</td>\n",
       "      <td>437</td>\n",
       "      <td>1</td>\n",
       "    </tr>\n",
       "    <tr>\n",
       "      <th>91363</th>\n",
       "      <td>56cc3b271716ef0cbfe021bee7a6ddca</td>\n",
       "      <td>fb694f1a733efde390f6d93e122b702f</td>\n",
       "      <td>2018-06-07 15:59:08</td>\n",
       "      <td>1</td>\n",
       "      <td>119.9</td>\n",
       "      <td>87</td>\n",
       "      <td>2</td>\n",
       "    </tr>\n",
       "    <tr>\n",
       "      <th>45226</th>\n",
       "      <td>fc29da50ccc5a3cbdadf475432a8caa7</td>\n",
       "      <td>ede1d05d53f82a21a82e22a89aaf01c3</td>\n",
       "      <td>2017-12-10 19:31:51</td>\n",
       "      <td>1</td>\n",
       "      <td>124.9</td>\n",
       "      <td>266</td>\n",
       "      <td>3</td>\n",
       "    </tr>\n",
       "  </tbody>\n",
       "</table>\n",
       "</div>"
      ],
      "text/plain": [
       "                       id_unico_cliente                        id_cliente  \\\n",
       "53818  a0dc0910971f4c957ca0d19416566c47  4bb0b800e2bafd5b1df51ea1e45e780b   \n",
       "59283  d557b0de499fba598492f6c77b8b56ab  1737ebe20c3faf8da6877df534f55e0a   \n",
       "77528  54de682f0fdd9e588983277f98bdd15d  09aac084452bfe2880d35d02858aa98e   \n",
       "91363  56cc3b271716ef0cbfe021bee7a6ddca  fb694f1a733efde390f6d93e122b702f   \n",
       "45226  fc29da50ccc5a3cbdadf475432a8caa7  ede1d05d53f82a21a82e22a89aaf01c3   \n",
       "\n",
       "            horario_pedido  item_id  preco  Recencia  RecenciaCluster  \n",
       "53818  2017-03-24 10:53:14        1  189.9       527                1  \n",
       "59283  2018-01-03 17:17:52        1   59.9       242                0  \n",
       "77528  2017-06-22 22:22:55        1   95.0       437                1  \n",
       "91363  2018-06-07 15:59:08        1  119.9        87                2  \n",
       "45226  2017-12-10 19:31:51        1  124.9       266                3  "
      ]
     },
     "execution_count": 26,
     "metadata": {},
     "output_type": "execute_result"
    }
   ],
   "source": [
    "df_usuario['RecenciaCluster'] = kmeans.fit_predict(df_recencia)\n",
    "df_usuario.sample(5)"
   ]
  },
  {
   "cell_type": "markdown",
   "id": "a45ca6e2",
   "metadata": {},
   "source": [
    "## Calculando o valor médio das recências por grupo.\n"
   ]
  },
  {
   "cell_type": "code",
   "execution_count": 27,
   "id": "3f6a4744",
   "metadata": {},
   "outputs": [
    {
     "data": {
      "text/html": [
       "<div>\n",
       "<style scoped>\n",
       "    .dataframe tbody tr th:only-of-type {\n",
       "        vertical-align: middle;\n",
       "    }\n",
       "\n",
       "    .dataframe tbody tr th {\n",
       "        vertical-align: top;\n",
       "    }\n",
       "\n",
       "    .dataframe thead th {\n",
       "        text-align: right;\n",
       "    }\n",
       "</style>\n",
       "<table border=\"1\" class=\"dataframe\">\n",
       "  <thead>\n",
       "    <tr style=\"text-align: right;\">\n",
       "      <th></th>\n",
       "      <th>RecenciaCluster</th>\n",
       "      <th>Recencia</th>\n",
       "    </tr>\n",
       "  </thead>\n",
       "  <tbody>\n",
       "    <tr>\n",
       "      <th>0</th>\n",
       "      <td>0</td>\n",
       "      <td>187.911204</td>\n",
       "    </tr>\n",
       "    <tr>\n",
       "      <th>1</th>\n",
       "      <td>1</td>\n",
       "      <td>490.622269</td>\n",
       "    </tr>\n",
       "    <tr>\n",
       "      <th>2</th>\n",
       "      <td>2</td>\n",
       "      <td>66.790878</td>\n",
       "    </tr>\n",
       "    <tr>\n",
       "      <th>3</th>\n",
       "      <td>3</td>\n",
       "      <td>320.233294</td>\n",
       "    </tr>\n",
       "  </tbody>\n",
       "</table>\n",
       "</div>"
      ],
      "text/plain": [
       "   RecenciaCluster    Recencia\n",
       "0                0  187.911204\n",
       "1                1  490.622269\n",
       "2                2   66.790878\n",
       "3                3  320.233294"
      ]
     },
     "execution_count": 27,
     "metadata": {},
     "output_type": "execute_result"
    }
   ],
   "source": [
    "agrupado_por_cluster = df_usuario.groupby('RecenciaCluster')['Recencia'].mean().reset_index()\n",
    "agrupado_por_cluster.head() "
   ]
  },
  {
   "cell_type": "code",
   "execution_count": 28,
   "id": "f7e051e6",
   "metadata": {},
   "outputs": [
    {
     "data": {
      "text/html": [
       "<div>\n",
       "<style scoped>\n",
       "    .dataframe tbody tr th:only-of-type {\n",
       "        vertical-align: middle;\n",
       "    }\n",
       "\n",
       "    .dataframe tbody tr th {\n",
       "        vertical-align: top;\n",
       "    }\n",
       "\n",
       "    .dataframe thead th {\n",
       "        text-align: right;\n",
       "    }\n",
       "</style>\n",
       "<table border=\"1\" class=\"dataframe\">\n",
       "  <thead>\n",
       "    <tr style=\"text-align: right;\">\n",
       "      <th></th>\n",
       "      <th>RecenciaCluster</th>\n",
       "      <th>Recencia</th>\n",
       "    </tr>\n",
       "  </thead>\n",
       "  <tbody>\n",
       "    <tr>\n",
       "      <th>0</th>\n",
       "      <td>1</td>\n",
       "      <td>490.622269</td>\n",
       "    </tr>\n",
       "    <tr>\n",
       "      <th>1</th>\n",
       "      <td>3</td>\n",
       "      <td>320.233294</td>\n",
       "    </tr>\n",
       "    <tr>\n",
       "      <th>2</th>\n",
       "      <td>0</td>\n",
       "      <td>187.911204</td>\n",
       "    </tr>\n",
       "    <tr>\n",
       "      <th>3</th>\n",
       "      <td>2</td>\n",
       "      <td>66.790878</td>\n",
       "    </tr>\n",
       "  </tbody>\n",
       "</table>\n",
       "</div>"
      ],
      "text/plain": [
       "   RecenciaCluster    Recencia\n",
       "0                1  490.622269\n",
       "1                3  320.233294\n",
       "2                0  187.911204\n",
       "3                2   66.790878"
      ]
     },
     "execution_count": 28,
     "metadata": {},
     "output_type": "execute_result"
    }
   ],
   "source": [
    "agrupado_por_cluster_ordenado = agrupado_por_cluster.sort_values(by='Recencia',ascending=False).reset_index(drop=True)\n",
    "agrupado_por_cluster_ordenado.head() # ordenando em ordem descrescente"
   ]
  },
  {
   "cell_type": "markdown",
   "id": "02295cdf",
   "metadata": {},
   "source": [
    "## Clientes que estão há mais tempo sem comprar formam o grupo 0.\n"
   ]
  },
  {
   "cell_type": "code",
   "execution_count": 29,
   "id": "a06024ce",
   "metadata": {},
   "outputs": [
    {
     "data": {
      "text/html": [
       "<div>\n",
       "<style scoped>\n",
       "    .dataframe tbody tr th:only-of-type {\n",
       "        vertical-align: middle;\n",
       "    }\n",
       "\n",
       "    .dataframe tbody tr th {\n",
       "        vertical-align: top;\n",
       "    }\n",
       "\n",
       "    .dataframe thead th {\n",
       "        text-align: right;\n",
       "    }\n",
       "</style>\n",
       "<table border=\"1\" class=\"dataframe\">\n",
       "  <thead>\n",
       "    <tr style=\"text-align: right;\">\n",
       "      <th></th>\n",
       "      <th>RecenciaCluster</th>\n",
       "      <th>Recencia</th>\n",
       "      <th>index</th>\n",
       "    </tr>\n",
       "  </thead>\n",
       "  <tbody>\n",
       "    <tr>\n",
       "      <th>0</th>\n",
       "      <td>1</td>\n",
       "      <td>490.622269</td>\n",
       "      <td>0</td>\n",
       "    </tr>\n",
       "    <tr>\n",
       "      <th>1</th>\n",
       "      <td>3</td>\n",
       "      <td>320.233294</td>\n",
       "      <td>1</td>\n",
       "    </tr>\n",
       "    <tr>\n",
       "      <th>2</th>\n",
       "      <td>0</td>\n",
       "      <td>187.911204</td>\n",
       "      <td>2</td>\n",
       "    </tr>\n",
       "    <tr>\n",
       "      <th>3</th>\n",
       "      <td>2</td>\n",
       "      <td>66.790878</td>\n",
       "      <td>3</td>\n",
       "    </tr>\n",
       "  </tbody>\n",
       "</table>\n",
       "</div>"
      ],
      "text/plain": [
       "   RecenciaCluster    Recencia  index\n",
       "0                1  490.622269      0\n",
       "1                3  320.233294      1\n",
       "2                0  187.911204      2\n",
       "3                2   66.790878      3"
      ]
     },
     "execution_count": 29,
     "metadata": {},
     "output_type": "execute_result"
    }
   ],
   "source": [
    "agrupado_por_cluster_ordenado['index'] = agrupado_por_cluster_ordenado.index\n",
    "agrupado_por_cluster_ordenado # associando os índices à Recência ordenada. \n"
   ]
  },
  {
   "cell_type": "code",
   "execution_count": 30,
   "id": "ea933af1",
   "metadata": {},
   "outputs": [
    {
     "data": {
      "text/html": [
       "<div>\n",
       "<style scoped>\n",
       "    .dataframe tbody tr th:only-of-type {\n",
       "        vertical-align: middle;\n",
       "    }\n",
       "\n",
       "    .dataframe tbody tr th {\n",
       "        vertical-align: top;\n",
       "    }\n",
       "\n",
       "    .dataframe thead th {\n",
       "        text-align: right;\n",
       "    }\n",
       "</style>\n",
       "<table border=\"1\" class=\"dataframe\">\n",
       "  <thead>\n",
       "    <tr style=\"text-align: right;\">\n",
       "      <th></th>\n",
       "      <th>id_unico_cliente</th>\n",
       "      <th>id_cliente</th>\n",
       "      <th>horario_pedido</th>\n",
       "      <th>item_id</th>\n",
       "      <th>preco</th>\n",
       "      <th>Recencia</th>\n",
       "      <th>RecenciaCluster</th>\n",
       "      <th>index</th>\n",
       "    </tr>\n",
       "  </thead>\n",
       "  <tbody>\n",
       "    <tr>\n",
       "      <th>0</th>\n",
       "      <td>861eff4711a542e4b93843c6dd7febb0</td>\n",
       "      <td>06b8999e2fba1a1fbc88172c00ba8bc7</td>\n",
       "      <td>2017-05-16 15:05:35</td>\n",
       "      <td>1</td>\n",
       "      <td>124.99</td>\n",
       "      <td>474</td>\n",
       "      <td>1</td>\n",
       "      <td>0</td>\n",
       "    </tr>\n",
       "    <tr>\n",
       "      <th>1</th>\n",
       "      <td>3c799d181c34d51f6d44bbbc563024db</td>\n",
       "      <td>f0ac8e5a239118859b1734e1087cbb1f</td>\n",
       "      <td>2017-05-07 20:11:26</td>\n",
       "      <td>1</td>\n",
       "      <td>124.99</td>\n",
       "      <td>483</td>\n",
       "      <td>1</td>\n",
       "      <td>0</td>\n",
       "    </tr>\n",
       "    <tr>\n",
       "      <th>2</th>\n",
       "      <td>567ab47ca4deb92d46dbf54dce07d0a7</td>\n",
       "      <td>fd3a0b1bd209f0e7d420c9c3d1127613</td>\n",
       "      <td>2017-03-23 15:10:17</td>\n",
       "      <td>1</td>\n",
       "      <td>126.99</td>\n",
       "      <td>528</td>\n",
       "      <td>1</td>\n",
       "      <td>0</td>\n",
       "    </tr>\n",
       "    <tr>\n",
       "      <th>3</th>\n",
       "      <td>f40ab89b622248b7ca125af4b486b887</td>\n",
       "      <td>fbd40c083aa8cddebb5265b2ba6aaf2e</td>\n",
       "      <td>2017-05-16 10:00:49</td>\n",
       "      <td>1</td>\n",
       "      <td>124.99</td>\n",
       "      <td>474</td>\n",
       "      <td>1</td>\n",
       "      <td>0</td>\n",
       "    </tr>\n",
       "    <tr>\n",
       "      <th>4</th>\n",
       "      <td>749943913a9851a39c9baf51877fbab6</td>\n",
       "      <td>10558ef4afea173bfb5e2cbe3d5b0bb5</td>\n",
       "      <td>2017-03-18 23:04:36</td>\n",
       "      <td>1</td>\n",
       "      <td>126.99</td>\n",
       "      <td>533</td>\n",
       "      <td>1</td>\n",
       "      <td>0</td>\n",
       "    </tr>\n",
       "  </tbody>\n",
       "</table>\n",
       "</div>"
      ],
      "text/plain": [
       "                   id_unico_cliente                        id_cliente  \\\n",
       "0  861eff4711a542e4b93843c6dd7febb0  06b8999e2fba1a1fbc88172c00ba8bc7   \n",
       "1  3c799d181c34d51f6d44bbbc563024db  f0ac8e5a239118859b1734e1087cbb1f   \n",
       "2  567ab47ca4deb92d46dbf54dce07d0a7  fd3a0b1bd209f0e7d420c9c3d1127613   \n",
       "3  f40ab89b622248b7ca125af4b486b887  fbd40c083aa8cddebb5265b2ba6aaf2e   \n",
       "4  749943913a9851a39c9baf51877fbab6  10558ef4afea173bfb5e2cbe3d5b0bb5   \n",
       "\n",
       "        horario_pedido  item_id   preco  Recencia  RecenciaCluster  index  \n",
       "0  2017-05-16 15:05:35        1  124.99       474                1      0  \n",
       "1  2017-05-07 20:11:26        1  124.99       483                1      0  \n",
       "2  2017-03-23 15:10:17        1  126.99       528                1      0  \n",
       "3  2017-05-16 10:00:49        1  124.99       474                1      0  \n",
       "4  2017-03-18 23:04:36        1  126.99       533                1      0  "
      ]
     },
     "execution_count": 30,
     "metadata": {},
     "output_type": "execute_result"
    }
   ],
   "source": [
    "juntando_cluster = pd.merge(df_usuario, agrupado_por_cluster_ordenado[['RecenciaCluster', 'index']], \n",
    "                           on = 'RecenciaCluster')\n",
    "juntando_cluster.head() # juntando os DF's com os grupos formados. "
   ]
  },
  {
   "cell_type": "markdown",
   "id": "8ef765bb",
   "metadata": {},
   "source": [
    "## Clientes mais recentes ganham maior pontuação (3). "
   ]
  },
  {
   "cell_type": "code",
   "execution_count": 31,
   "id": "7f43ec5d",
   "metadata": {},
   "outputs": [
    {
     "data": {
      "text/html": [
       "<div>\n",
       "<style scoped>\n",
       "    .dataframe tbody tr th:only-of-type {\n",
       "        vertical-align: middle;\n",
       "    }\n",
       "\n",
       "    .dataframe tbody tr th {\n",
       "        vertical-align: top;\n",
       "    }\n",
       "\n",
       "    .dataframe thead th {\n",
       "        text-align: right;\n",
       "    }\n",
       "</style>\n",
       "<table border=\"1\" class=\"dataframe\">\n",
       "  <thead>\n",
       "    <tr style=\"text-align: right;\">\n",
       "      <th></th>\n",
       "      <th>id_unico_cliente</th>\n",
       "      <th>id_cliente</th>\n",
       "      <th>horario_pedido</th>\n",
       "      <th>item_id</th>\n",
       "      <th>preco</th>\n",
       "      <th>Recencia</th>\n",
       "      <th>index</th>\n",
       "    </tr>\n",
       "  </thead>\n",
       "  <tbody>\n",
       "    <tr>\n",
       "      <th>0</th>\n",
       "      <td>861eff4711a542e4b93843c6dd7febb0</td>\n",
       "      <td>06b8999e2fba1a1fbc88172c00ba8bc7</td>\n",
       "      <td>2017-05-16 15:05:35</td>\n",
       "      <td>1</td>\n",
       "      <td>124.99</td>\n",
       "      <td>474</td>\n",
       "      <td>0</td>\n",
       "    </tr>\n",
       "    <tr>\n",
       "      <th>1</th>\n",
       "      <td>3c799d181c34d51f6d44bbbc563024db</td>\n",
       "      <td>f0ac8e5a239118859b1734e1087cbb1f</td>\n",
       "      <td>2017-05-07 20:11:26</td>\n",
       "      <td>1</td>\n",
       "      <td>124.99</td>\n",
       "      <td>483</td>\n",
       "      <td>0</td>\n",
       "    </tr>\n",
       "    <tr>\n",
       "      <th>2</th>\n",
       "      <td>567ab47ca4deb92d46dbf54dce07d0a7</td>\n",
       "      <td>fd3a0b1bd209f0e7d420c9c3d1127613</td>\n",
       "      <td>2017-03-23 15:10:17</td>\n",
       "      <td>1</td>\n",
       "      <td>126.99</td>\n",
       "      <td>528</td>\n",
       "      <td>0</td>\n",
       "    </tr>\n",
       "    <tr>\n",
       "      <th>3</th>\n",
       "      <td>f40ab89b622248b7ca125af4b486b887</td>\n",
       "      <td>fbd40c083aa8cddebb5265b2ba6aaf2e</td>\n",
       "      <td>2017-05-16 10:00:49</td>\n",
       "      <td>1</td>\n",
       "      <td>124.99</td>\n",
       "      <td>474</td>\n",
       "      <td>0</td>\n",
       "    </tr>\n",
       "    <tr>\n",
       "      <th>4</th>\n",
       "      <td>749943913a9851a39c9baf51877fbab6</td>\n",
       "      <td>10558ef4afea173bfb5e2cbe3d5b0bb5</td>\n",
       "      <td>2017-03-18 23:04:36</td>\n",
       "      <td>1</td>\n",
       "      <td>126.99</td>\n",
       "      <td>533</td>\n",
       "      <td>0</td>\n",
       "    </tr>\n",
       "  </tbody>\n",
       "</table>\n",
       "</div>"
      ],
      "text/plain": [
       "                   id_unico_cliente                        id_cliente  \\\n",
       "0  861eff4711a542e4b93843c6dd7febb0  06b8999e2fba1a1fbc88172c00ba8bc7   \n",
       "1  3c799d181c34d51f6d44bbbc563024db  f0ac8e5a239118859b1734e1087cbb1f   \n",
       "2  567ab47ca4deb92d46dbf54dce07d0a7  fd3a0b1bd209f0e7d420c9c3d1127613   \n",
       "3  f40ab89b622248b7ca125af4b486b887  fbd40c083aa8cddebb5265b2ba6aaf2e   \n",
       "4  749943913a9851a39c9baf51877fbab6  10558ef4afea173bfb5e2cbe3d5b0bb5   \n",
       "\n",
       "        horario_pedido  item_id   preco  Recencia  index  \n",
       "0  2017-05-16 15:05:35        1  124.99       474      0  \n",
       "1  2017-05-07 20:11:26        1  124.99       483      0  \n",
       "2  2017-03-23 15:10:17        1  126.99       528      0  \n",
       "3  2017-05-16 10:00:49        1  124.99       474      0  \n",
       "4  2017-03-18 23:04:36        1  126.99       533      0  "
      ]
     },
     "execution_count": 31,
     "metadata": {},
     "output_type": "execute_result"
    }
   ],
   "source": [
    "removendo_dados = juntando_cluster.drop(['RecenciaCluster'],axis=1)\n",
    "removendo_dados.head() # removendo a coluna RecenciaCluster, pois não é mais necessária. Agora usaremos os grupos\n"
   ]
  },
  {
   "cell_type": "code",
   "execution_count": 32,
   "id": "7da17040",
   "metadata": {},
   "outputs": [
    {
     "data": {
      "text/html": [
       "<div>\n",
       "<style scoped>\n",
       "    .dataframe tbody tr th:only-of-type {\n",
       "        vertical-align: middle;\n",
       "    }\n",
       "\n",
       "    .dataframe tbody tr th {\n",
       "        vertical-align: top;\n",
       "    }\n",
       "\n",
       "    .dataframe thead th {\n",
       "        text-align: right;\n",
       "    }\n",
       "</style>\n",
       "<table border=\"1\" class=\"dataframe\">\n",
       "  <thead>\n",
       "    <tr style=\"text-align: right;\">\n",
       "      <th></th>\n",
       "      <th>id_unico_cliente</th>\n",
       "      <th>id_cliente</th>\n",
       "      <th>horario_pedido</th>\n",
       "      <th>item_id</th>\n",
       "      <th>preco</th>\n",
       "      <th>Recencia</th>\n",
       "      <th>RecenciaCluster</th>\n",
       "    </tr>\n",
       "  </thead>\n",
       "  <tbody>\n",
       "    <tr>\n",
       "      <th>0</th>\n",
       "      <td>861eff4711a542e4b93843c6dd7febb0</td>\n",
       "      <td>06b8999e2fba1a1fbc88172c00ba8bc7</td>\n",
       "      <td>2017-05-16 15:05:35</td>\n",
       "      <td>1</td>\n",
       "      <td>124.99</td>\n",
       "      <td>474</td>\n",
       "      <td>0</td>\n",
       "    </tr>\n",
       "    <tr>\n",
       "      <th>1</th>\n",
       "      <td>3c799d181c34d51f6d44bbbc563024db</td>\n",
       "      <td>f0ac8e5a239118859b1734e1087cbb1f</td>\n",
       "      <td>2017-05-07 20:11:26</td>\n",
       "      <td>1</td>\n",
       "      <td>124.99</td>\n",
       "      <td>483</td>\n",
       "      <td>0</td>\n",
       "    </tr>\n",
       "    <tr>\n",
       "      <th>2</th>\n",
       "      <td>567ab47ca4deb92d46dbf54dce07d0a7</td>\n",
       "      <td>fd3a0b1bd209f0e7d420c9c3d1127613</td>\n",
       "      <td>2017-03-23 15:10:17</td>\n",
       "      <td>1</td>\n",
       "      <td>126.99</td>\n",
       "      <td>528</td>\n",
       "      <td>0</td>\n",
       "    </tr>\n",
       "    <tr>\n",
       "      <th>3</th>\n",
       "      <td>f40ab89b622248b7ca125af4b486b887</td>\n",
       "      <td>fbd40c083aa8cddebb5265b2ba6aaf2e</td>\n",
       "      <td>2017-05-16 10:00:49</td>\n",
       "      <td>1</td>\n",
       "      <td>124.99</td>\n",
       "      <td>474</td>\n",
       "      <td>0</td>\n",
       "    </tr>\n",
       "    <tr>\n",
       "      <th>4</th>\n",
       "      <td>749943913a9851a39c9baf51877fbab6</td>\n",
       "      <td>10558ef4afea173bfb5e2cbe3d5b0bb5</td>\n",
       "      <td>2017-03-18 23:04:36</td>\n",
       "      <td>1</td>\n",
       "      <td>126.99</td>\n",
       "      <td>533</td>\n",
       "      <td>0</td>\n",
       "    </tr>\n",
       "  </tbody>\n",
       "</table>\n",
       "</div>"
      ],
      "text/plain": [
       "                   id_unico_cliente                        id_cliente  \\\n",
       "0  861eff4711a542e4b93843c6dd7febb0  06b8999e2fba1a1fbc88172c00ba8bc7   \n",
       "1  3c799d181c34d51f6d44bbbc563024db  f0ac8e5a239118859b1734e1087cbb1f   \n",
       "2  567ab47ca4deb92d46dbf54dce07d0a7  fd3a0b1bd209f0e7d420c9c3d1127613   \n",
       "3  f40ab89b622248b7ca125af4b486b887  fbd40c083aa8cddebb5265b2ba6aaf2e   \n",
       "4  749943913a9851a39c9baf51877fbab6  10558ef4afea173bfb5e2cbe3d5b0bb5   \n",
       "\n",
       "        horario_pedido  item_id   preco  Recencia  RecenciaCluster  \n",
       "0  2017-05-16 15:05:35        1  124.99       474                0  \n",
       "1  2017-05-07 20:11:26        1  124.99       483                0  \n",
       "2  2017-03-23 15:10:17        1  126.99       528                0  \n",
       "3  2017-05-16 10:00:49        1  124.99       474                0  \n",
       "4  2017-03-18 23:04:36        1  126.99       533                0  "
      ]
     },
     "execution_count": 32,
     "metadata": {},
     "output_type": "execute_result"
    }
   ],
   "source": [
    "df_final = removendo_dados.rename(columns = {'index': 'RecenciaCluster'}) #usamos o nome RecenciaCluster de novo.\n",
    "df_final.head()"
   ]
  },
  {
   "cell_type": "markdown",
   "id": "5c19a850",
   "metadata": {},
   "source": [
    "## Construindo uma função para refazer esses passos para Frequência e Receita"
   ]
  },
  {
   "cell_type": "code",
   "execution_count": 33,
   "id": "dbe94378",
   "metadata": {},
   "outputs": [],
   "source": [
    "def ordenador_cluster(cluster_nome, target_nome, df):\n",
    "    agrupado_por_cluster = df.groupby(cluster_nome)[target_nome].mean().reset_index()\n",
    "    agrupado_por_cluster_ordenado = agrupado_por_cluster.sort_values(by=target_nome,\n",
    "                                                                 ascending=True).reset_index(drop=True)\n",
    "    agrupado_por_cluster_ordenado['index'] = agrupado_por_cluster_ordenado.index\n",
    "    juntando_cluster = pd.merge(df, agrupado_por_cluster_ordenado[[cluster_nome, 'index']], \n",
    "                           on = cluster_nome)\n",
    "\n",
    "    removendo_dados = juntando_cluster.drop([cluster_nome],axis=1)\n",
    "    df_final = removendo_dados.rename(columns = {'index': cluster_nome}) \n",
    "    \n",
    "    return df_final\n",
    "\n",
    "\n",
    "# trocamos 'RecenciaCluster' por cluster_name, \"Recencia\" por target_name e \"df_usario\" por df."
   ]
  },
  {
   "cell_type": "code",
   "execution_count": 34,
   "id": "b3f59ab6",
   "metadata": {},
   "outputs": [
    {
     "data": {
      "text/html": [
       "<div>\n",
       "<style scoped>\n",
       "    .dataframe tbody tr th:only-of-type {\n",
       "        vertical-align: middle;\n",
       "    }\n",
       "\n",
       "    .dataframe tbody tr th {\n",
       "        vertical-align: top;\n",
       "    }\n",
       "\n",
       "    .dataframe thead th {\n",
       "        text-align: right;\n",
       "    }\n",
       "</style>\n",
       "<table border=\"1\" class=\"dataframe\">\n",
       "  <thead>\n",
       "    <tr style=\"text-align: right;\">\n",
       "      <th></th>\n",
       "      <th>id_unico_cliente</th>\n",
       "      <th>id_cliente</th>\n",
       "      <th>horario_pedido</th>\n",
       "      <th>item_id</th>\n",
       "      <th>preco</th>\n",
       "      <th>Recencia</th>\n",
       "      <th>RecenciaCluster</th>\n",
       "    </tr>\n",
       "  </thead>\n",
       "  <tbody>\n",
       "    <tr>\n",
       "      <th>0</th>\n",
       "      <td>861eff4711a542e4b93843c6dd7febb0</td>\n",
       "      <td>06b8999e2fba1a1fbc88172c00ba8bc7</td>\n",
       "      <td>2017-05-16 15:05:35</td>\n",
       "      <td>1</td>\n",
       "      <td>124.99</td>\n",
       "      <td>474</td>\n",
       "      <td>3</td>\n",
       "    </tr>\n",
       "    <tr>\n",
       "      <th>1</th>\n",
       "      <td>3c799d181c34d51f6d44bbbc563024db</td>\n",
       "      <td>f0ac8e5a239118859b1734e1087cbb1f</td>\n",
       "      <td>2017-05-07 20:11:26</td>\n",
       "      <td>1</td>\n",
       "      <td>124.99</td>\n",
       "      <td>483</td>\n",
       "      <td>3</td>\n",
       "    </tr>\n",
       "    <tr>\n",
       "      <th>2</th>\n",
       "      <td>567ab47ca4deb92d46dbf54dce07d0a7</td>\n",
       "      <td>fd3a0b1bd209f0e7d420c9c3d1127613</td>\n",
       "      <td>2017-03-23 15:10:17</td>\n",
       "      <td>1</td>\n",
       "      <td>126.99</td>\n",
       "      <td>528</td>\n",
       "      <td>3</td>\n",
       "    </tr>\n",
       "    <tr>\n",
       "      <th>3</th>\n",
       "      <td>f40ab89b622248b7ca125af4b486b887</td>\n",
       "      <td>fbd40c083aa8cddebb5265b2ba6aaf2e</td>\n",
       "      <td>2017-05-16 10:00:49</td>\n",
       "      <td>1</td>\n",
       "      <td>124.99</td>\n",
       "      <td>474</td>\n",
       "      <td>3</td>\n",
       "    </tr>\n",
       "    <tr>\n",
       "      <th>4</th>\n",
       "      <td>749943913a9851a39c9baf51877fbab6</td>\n",
       "      <td>10558ef4afea173bfb5e2cbe3d5b0bb5</td>\n",
       "      <td>2017-03-18 23:04:36</td>\n",
       "      <td>1</td>\n",
       "      <td>126.99</td>\n",
       "      <td>533</td>\n",
       "      <td>3</td>\n",
       "    </tr>\n",
       "  </tbody>\n",
       "</table>\n",
       "</div>"
      ],
      "text/plain": [
       "                   id_unico_cliente                        id_cliente  \\\n",
       "0  861eff4711a542e4b93843c6dd7febb0  06b8999e2fba1a1fbc88172c00ba8bc7   \n",
       "1  3c799d181c34d51f6d44bbbc563024db  f0ac8e5a239118859b1734e1087cbb1f   \n",
       "2  567ab47ca4deb92d46dbf54dce07d0a7  fd3a0b1bd209f0e7d420c9c3d1127613   \n",
       "3  f40ab89b622248b7ca125af4b486b887  fbd40c083aa8cddebb5265b2ba6aaf2e   \n",
       "4  749943913a9851a39c9baf51877fbab6  10558ef4afea173bfb5e2cbe3d5b0bb5   \n",
       "\n",
       "        horario_pedido  item_id   preco  Recencia  RecenciaCluster  \n",
       "0  2017-05-16 15:05:35        1  124.99       474                3  \n",
       "1  2017-05-07 20:11:26        1  124.99       483                3  \n",
       "2  2017-03-23 15:10:17        1  126.99       528                3  \n",
       "3  2017-05-16 10:00:49        1  124.99       474                3  \n",
       "4  2017-03-18 23:04:36        1  126.99       533                3  "
      ]
     },
     "execution_count": 34,
     "metadata": {},
     "output_type": "execute_result"
    }
   ],
   "source": [
    "# testando em df_usuario. \n",
    "df_usuario = ordenador_cluster('RecenciaCluster', 'Recencia', df_usuario)\n",
    "df_usuario.head()"
   ]
  },
  {
   "cell_type": "code",
   "execution_count": 35,
   "id": "2c13a988",
   "metadata": {},
   "outputs": [
    {
     "data": {
      "text/html": [
       "<div>\n",
       "<style scoped>\n",
       "    .dataframe tbody tr th:only-of-type {\n",
       "        vertical-align: middle;\n",
       "    }\n",
       "\n",
       "    .dataframe tbody tr th {\n",
       "        vertical-align: top;\n",
       "    }\n",
       "\n",
       "    .dataframe thead th {\n",
       "        text-align: right;\n",
       "    }\n",
       "</style>\n",
       "<table border=\"1\" class=\"dataframe\">\n",
       "  <thead>\n",
       "    <tr style=\"text-align: right;\">\n",
       "      <th></th>\n",
       "      <th>RecenciaCluster</th>\n",
       "      <th>count</th>\n",
       "      <th>mean</th>\n",
       "      <th>std</th>\n",
       "      <th>min</th>\n",
       "      <th>25%</th>\n",
       "      <th>50%</th>\n",
       "      <th>75%</th>\n",
       "      <th>max</th>\n",
       "    </tr>\n",
       "  </thead>\n",
       "  <tbody>\n",
       "    <tr>\n",
       "      <th>0</th>\n",
       "      <td>0</td>\n",
       "      <td>31790.0</td>\n",
       "      <td>66.790878</td>\n",
       "      <td>36.009443</td>\n",
       "      <td>0.0</td>\n",
       "      <td>33.0</td>\n",
       "      <td>67.0</td>\n",
       "      <td>100.0</td>\n",
       "      <td>127.0</td>\n",
       "    </tr>\n",
       "    <tr>\n",
       "      <th>1</th>\n",
       "      <td>1</td>\n",
       "      <td>33639.0</td>\n",
       "      <td>187.911204</td>\n",
       "      <td>35.134736</td>\n",
       "      <td>128.0</td>\n",
       "      <td>158.0</td>\n",
       "      <td>187.0</td>\n",
       "      <td>218.0</td>\n",
       "      <td>254.0</td>\n",
       "    </tr>\n",
       "    <tr>\n",
       "      <th>2</th>\n",
       "      <td>2</td>\n",
       "      <td>30828.0</td>\n",
       "      <td>320.233294</td>\n",
       "      <td>43.971639</td>\n",
       "      <td>255.0</td>\n",
       "      <td>281.0</td>\n",
       "      <td>314.0</td>\n",
       "      <td>357.0</td>\n",
       "      <td>405.0</td>\n",
       "    </tr>\n",
       "    <tr>\n",
       "      <th>3</th>\n",
       "      <td>3</td>\n",
       "      <td>20324.0</td>\n",
       "      <td>490.622269</td>\n",
       "      <td>59.293154</td>\n",
       "      <td>406.0</td>\n",
       "      <td>444.0</td>\n",
       "      <td>481.0</td>\n",
       "      <td>533.0</td>\n",
       "      <td>728.0</td>\n",
       "    </tr>\n",
       "  </tbody>\n",
       "</table>\n",
       "</div>"
      ],
      "text/plain": [
       "   RecenciaCluster    count        mean        std    min    25%    50%  \\\n",
       "0                0  31790.0   66.790878  36.009443    0.0   33.0   67.0   \n",
       "1                1  33639.0  187.911204  35.134736  128.0  158.0  187.0   \n",
       "2                2  30828.0  320.233294  43.971639  255.0  281.0  314.0   \n",
       "3                3  20324.0  490.622269  59.293154  406.0  444.0  481.0   \n",
       "\n",
       "     75%    max  \n",
       "0  100.0  127.0  \n",
       "1  218.0  254.0  \n",
       "2  357.0  405.0  \n",
       "3  533.0  728.0  "
      ]
     },
     "execution_count": 35,
     "metadata": {},
     "output_type": "execute_result"
    }
   ],
   "source": [
    "df_usuario.groupby('RecenciaCluster')['Recencia'].describe().reset_index()"
   ]
  },
  {
   "cell_type": "markdown",
   "id": "919d47b5",
   "metadata": {},
   "source": [
    "## Calculando a frequência de compra de cada cliente\n",
    " "
   ]
  },
  {
   "cell_type": "code",
   "execution_count": 36,
   "id": "2f0344e5",
   "metadata": {},
   "outputs": [],
   "source": [
    "df_frequencia = df.groupby('id_unico_cliente').pedido_aprovado.count().reset_index()\n",
    "df_frequencia.columns = ['id_unico_cliente','Frequencia']"
   ]
  },
  {
   "cell_type": "code",
   "execution_count": 37,
   "id": "a8929a60",
   "metadata": {},
   "outputs": [
    {
     "data": {
      "text/html": [
       "<div>\n",
       "<style scoped>\n",
       "    .dataframe tbody tr th:only-of-type {\n",
       "        vertical-align: middle;\n",
       "    }\n",
       "\n",
       "    .dataframe tbody tr th {\n",
       "        vertical-align: top;\n",
       "    }\n",
       "\n",
       "    .dataframe thead th {\n",
       "        text-align: right;\n",
       "    }\n",
       "</style>\n",
       "<table border=\"1\" class=\"dataframe\">\n",
       "  <thead>\n",
       "    <tr style=\"text-align: right;\">\n",
       "      <th></th>\n",
       "      <th>id_unico_cliente</th>\n",
       "      <th>id_cliente</th>\n",
       "      <th>horario_pedido</th>\n",
       "      <th>item_id</th>\n",
       "      <th>preco</th>\n",
       "      <th>Recencia</th>\n",
       "      <th>RecenciaCluster</th>\n",
       "      <th>Frequencia</th>\n",
       "    </tr>\n",
       "  </thead>\n",
       "  <tbody>\n",
       "    <tr>\n",
       "      <th>0</th>\n",
       "      <td>861eff4711a542e4b93843c6dd7febb0</td>\n",
       "      <td>06b8999e2fba1a1fbc88172c00ba8bc7</td>\n",
       "      <td>2017-05-16 15:05:35</td>\n",
       "      <td>1</td>\n",
       "      <td>124.99</td>\n",
       "      <td>474</td>\n",
       "      <td>3</td>\n",
       "      <td>1</td>\n",
       "    </tr>\n",
       "    <tr>\n",
       "      <th>1</th>\n",
       "      <td>3c799d181c34d51f6d44bbbc563024db</td>\n",
       "      <td>f0ac8e5a239118859b1734e1087cbb1f</td>\n",
       "      <td>2017-05-07 20:11:26</td>\n",
       "      <td>1</td>\n",
       "      <td>124.99</td>\n",
       "      <td>483</td>\n",
       "      <td>3</td>\n",
       "      <td>1</td>\n",
       "    </tr>\n",
       "    <tr>\n",
       "      <th>2</th>\n",
       "      <td>567ab47ca4deb92d46dbf54dce07d0a7</td>\n",
       "      <td>fd3a0b1bd209f0e7d420c9c3d1127613</td>\n",
       "      <td>2017-03-23 15:10:17</td>\n",
       "      <td>1</td>\n",
       "      <td>126.99</td>\n",
       "      <td>528</td>\n",
       "      <td>3</td>\n",
       "      <td>1</td>\n",
       "    </tr>\n",
       "    <tr>\n",
       "      <th>3</th>\n",
       "      <td>f40ab89b622248b7ca125af4b486b887</td>\n",
       "      <td>fbd40c083aa8cddebb5265b2ba6aaf2e</td>\n",
       "      <td>2017-05-16 10:00:49</td>\n",
       "      <td>1</td>\n",
       "      <td>124.99</td>\n",
       "      <td>474</td>\n",
       "      <td>3</td>\n",
       "      <td>1</td>\n",
       "    </tr>\n",
       "    <tr>\n",
       "      <th>4</th>\n",
       "      <td>749943913a9851a39c9baf51877fbab6</td>\n",
       "      <td>10558ef4afea173bfb5e2cbe3d5b0bb5</td>\n",
       "      <td>2017-03-18 23:04:36</td>\n",
       "      <td>1</td>\n",
       "      <td>126.99</td>\n",
       "      <td>533</td>\n",
       "      <td>3</td>\n",
       "      <td>1</td>\n",
       "    </tr>\n",
       "  </tbody>\n",
       "</table>\n",
       "</div>"
      ],
      "text/plain": [
       "                   id_unico_cliente                        id_cliente  \\\n",
       "0  861eff4711a542e4b93843c6dd7febb0  06b8999e2fba1a1fbc88172c00ba8bc7   \n",
       "1  3c799d181c34d51f6d44bbbc563024db  f0ac8e5a239118859b1734e1087cbb1f   \n",
       "2  567ab47ca4deb92d46dbf54dce07d0a7  fd3a0b1bd209f0e7d420c9c3d1127613   \n",
       "3  f40ab89b622248b7ca125af4b486b887  fbd40c083aa8cddebb5265b2ba6aaf2e   \n",
       "4  749943913a9851a39c9baf51877fbab6  10558ef4afea173bfb5e2cbe3d5b0bb5   \n",
       "\n",
       "        horario_pedido  item_id   preco  Recencia  RecenciaCluster  Frequencia  \n",
       "0  2017-05-16 15:05:35        1  124.99       474                3           1  \n",
       "1  2017-05-07 20:11:26        1  124.99       483                3           1  \n",
       "2  2017-03-23 15:10:17        1  126.99       528                3           1  \n",
       "3  2017-05-16 10:00:49        1  124.99       474                3           1  \n",
       "4  2017-03-18 23:04:36        1  126.99       533                3           1  "
      ]
     },
     "execution_count": 37,
     "metadata": {},
     "output_type": "execute_result"
    }
   ],
   "source": [
    "## adicionando ao df_usuario\n",
    "\n",
    "df_usuario = pd.merge(df_usuario,df_frequencia, on = 'id_unico_cliente')\n",
    "df_usuario.head()"
   ]
  },
  {
   "cell_type": "markdown",
   "id": "dfc61666",
   "metadata": {},
   "source": [
    "## Agrupando os dados pela Frequência"
   ]
  },
  {
   "cell_type": "code",
   "execution_count": 38,
   "id": "c013db37",
   "metadata": {},
   "outputs": [],
   "source": [
    "df_frequencia = df_usuario[['Frequencia']]"
   ]
  },
  {
   "cell_type": "code",
   "execution_count": 39,
   "id": "e2648402",
   "metadata": {},
   "outputs": [],
   "source": [
    "# aplicando k-means à Frequencia\n",
    "kmeans = KMeans(n_clusters = 4)\n",
    "df_usuario['FrequenciaCluster'] = kmeans.fit_predict(df_frequencia)\n"
   ]
  },
  {
   "cell_type": "code",
   "execution_count": 40,
   "id": "343b8f68",
   "metadata": {},
   "outputs": [
    {
     "data": {
      "text/html": [
       "<div>\n",
       "<style scoped>\n",
       "    .dataframe tbody tr th:only-of-type {\n",
       "        vertical-align: middle;\n",
       "    }\n",
       "\n",
       "    .dataframe tbody tr th {\n",
       "        vertical-align: top;\n",
       "    }\n",
       "\n",
       "    .dataframe thead th {\n",
       "        text-align: right;\n",
       "    }\n",
       "</style>\n",
       "<table border=\"1\" class=\"dataframe\">\n",
       "  <thead>\n",
       "    <tr style=\"text-align: right;\">\n",
       "      <th></th>\n",
       "      <th>count</th>\n",
       "      <th>mean</th>\n",
       "      <th>std</th>\n",
       "      <th>min</th>\n",
       "      <th>25%</th>\n",
       "      <th>50%</th>\n",
       "      <th>75%</th>\n",
       "      <th>max</th>\n",
       "    </tr>\n",
       "    <tr>\n",
       "      <th>FrequenciaCluster</th>\n",
       "      <th></th>\n",
       "      <th></th>\n",
       "      <th></th>\n",
       "      <th></th>\n",
       "      <th></th>\n",
       "      <th></th>\n",
       "      <th></th>\n",
       "      <th></th>\n",
       "    </tr>\n",
       "  </thead>\n",
       "  <tbody>\n",
       "    <tr>\n",
       "      <th>0</th>\n",
       "      <td>106570.0</td>\n",
       "      <td>1.306343</td>\n",
       "      <td>0.570539</td>\n",
       "      <td>0.0</td>\n",
       "      <td>1.0</td>\n",
       "      <td>1.0</td>\n",
       "      <td>2.0</td>\n",
       "      <td>3.0</td>\n",
       "    </tr>\n",
       "    <tr>\n",
       "      <th>1</th>\n",
       "      <td>619.0</td>\n",
       "      <td>22.844911</td>\n",
       "      <td>6.267127</td>\n",
       "      <td>15.0</td>\n",
       "      <td>19.0</td>\n",
       "      <td>22.0</td>\n",
       "      <td>24.0</td>\n",
       "      <td>38.0</td>\n",
       "    </tr>\n",
       "    <tr>\n",
       "      <th>2</th>\n",
       "      <td>75.0</td>\n",
       "      <td>75.000000</td>\n",
       "      <td>0.000000</td>\n",
       "      <td>75.0</td>\n",
       "      <td>75.0</td>\n",
       "      <td>75.0</td>\n",
       "      <td>75.0</td>\n",
       "      <td>75.0</td>\n",
       "    </tr>\n",
       "    <tr>\n",
       "      <th>3</th>\n",
       "      <td>9317.0</td>\n",
       "      <td>5.744875</td>\n",
       "      <td>2.312449</td>\n",
       "      <td>4.0</td>\n",
       "      <td>4.0</td>\n",
       "      <td>5.0</td>\n",
       "      <td>6.0</td>\n",
       "      <td>14.0</td>\n",
       "    </tr>\n",
       "  </tbody>\n",
       "</table>\n",
       "</div>"
      ],
      "text/plain": [
       "                      count       mean       std   min   25%   50%   75%   max\n",
       "FrequenciaCluster                                                             \n",
       "0                  106570.0   1.306343  0.570539   0.0   1.0   1.0   2.0   3.0\n",
       "1                     619.0  22.844911  6.267127  15.0  19.0  22.0  24.0  38.0\n",
       "2                      75.0  75.000000  0.000000  75.0  75.0  75.0  75.0  75.0\n",
       "3                    9317.0   5.744875  2.312449   4.0   4.0   5.0   6.0  14.0"
      ]
     },
     "execution_count": 40,
     "metadata": {},
     "output_type": "execute_result"
    }
   ],
   "source": [
    "df_usuario.groupby('FrequenciaCluster')['Frequencia'].describe()"
   ]
  },
  {
   "cell_type": "code",
   "execution_count": 41,
   "id": "c16ab9cd",
   "metadata": {},
   "outputs": [],
   "source": [
    "# chamando a função ordenador_cluster para organizar os índices\n",
    "#e atribuir número maior aos clientes mais recorrentes.\n",
    "\n",
    "df_usuario = ordenador_cluster('FrequenciaCluster', 'Frequencia', df_usuario)\n"
   ]
  },
  {
   "cell_type": "code",
   "execution_count": 42,
   "id": "6647fdcc",
   "metadata": {},
   "outputs": [
    {
     "data": {
      "text/html": [
       "<div>\n",
       "<style scoped>\n",
       "    .dataframe tbody tr th:only-of-type {\n",
       "        vertical-align: middle;\n",
       "    }\n",
       "\n",
       "    .dataframe tbody tr th {\n",
       "        vertical-align: top;\n",
       "    }\n",
       "\n",
       "    .dataframe thead th {\n",
       "        text-align: right;\n",
       "    }\n",
       "</style>\n",
       "<table border=\"1\" class=\"dataframe\">\n",
       "  <thead>\n",
       "    <tr style=\"text-align: right;\">\n",
       "      <th></th>\n",
       "      <th>count</th>\n",
       "      <th>mean</th>\n",
       "      <th>std</th>\n",
       "      <th>min</th>\n",
       "      <th>25%</th>\n",
       "      <th>50%</th>\n",
       "      <th>75%</th>\n",
       "      <th>max</th>\n",
       "    </tr>\n",
       "    <tr>\n",
       "      <th>FrequenciaCluster</th>\n",
       "      <th></th>\n",
       "      <th></th>\n",
       "      <th></th>\n",
       "      <th></th>\n",
       "      <th></th>\n",
       "      <th></th>\n",
       "      <th></th>\n",
       "      <th></th>\n",
       "    </tr>\n",
       "  </thead>\n",
       "  <tbody>\n",
       "    <tr>\n",
       "      <th>0</th>\n",
       "      <td>106570.0</td>\n",
       "      <td>1.306343</td>\n",
       "      <td>0.570539</td>\n",
       "      <td>0.0</td>\n",
       "      <td>1.0</td>\n",
       "      <td>1.0</td>\n",
       "      <td>2.0</td>\n",
       "      <td>3.0</td>\n",
       "    </tr>\n",
       "    <tr>\n",
       "      <th>1</th>\n",
       "      <td>9317.0</td>\n",
       "      <td>5.744875</td>\n",
       "      <td>2.312449</td>\n",
       "      <td>4.0</td>\n",
       "      <td>4.0</td>\n",
       "      <td>5.0</td>\n",
       "      <td>6.0</td>\n",
       "      <td>14.0</td>\n",
       "    </tr>\n",
       "    <tr>\n",
       "      <th>2</th>\n",
       "      <td>619.0</td>\n",
       "      <td>22.844911</td>\n",
       "      <td>6.267127</td>\n",
       "      <td>15.0</td>\n",
       "      <td>19.0</td>\n",
       "      <td>22.0</td>\n",
       "      <td>24.0</td>\n",
       "      <td>38.0</td>\n",
       "    </tr>\n",
       "    <tr>\n",
       "      <th>3</th>\n",
       "      <td>75.0</td>\n",
       "      <td>75.000000</td>\n",
       "      <td>0.000000</td>\n",
       "      <td>75.0</td>\n",
       "      <td>75.0</td>\n",
       "      <td>75.0</td>\n",
       "      <td>75.0</td>\n",
       "      <td>75.0</td>\n",
       "    </tr>\n",
       "  </tbody>\n",
       "</table>\n",
       "</div>"
      ],
      "text/plain": [
       "                      count       mean       std   min   25%   50%   75%   max\n",
       "FrequenciaCluster                                                             \n",
       "0                  106570.0   1.306343  0.570539   0.0   1.0   1.0   2.0   3.0\n",
       "1                    9317.0   5.744875  2.312449   4.0   4.0   5.0   6.0  14.0\n",
       "2                     619.0  22.844911  6.267127  15.0  19.0  22.0  24.0  38.0\n",
       "3                      75.0  75.000000  0.000000  75.0  75.0  75.0  75.0  75.0"
      ]
     },
     "execution_count": 42,
     "metadata": {},
     "output_type": "execute_result"
    }
   ],
   "source": [
    "df_usuario.groupby('FrequenciaCluster')['Frequencia'].describe()"
   ]
  },
  {
   "cell_type": "markdown",
   "id": "9c4e0975",
   "metadata": {},
   "source": [
    ">  # Agrupando os dados pela Receita"
   ]
  },
  {
   "cell_type": "code",
   "execution_count": 43,
   "id": "87fb3da6",
   "metadata": {},
   "outputs": [],
   "source": [
    "df_receita = df.groupby('id_unico_cliente').pagamento_valor.sum().reset_index()\n"
   ]
  },
  {
   "cell_type": "code",
   "execution_count": 44,
   "id": "edd39143",
   "metadata": {},
   "outputs": [],
   "source": [
    "df_receita.columns = ['id_unico_cliente', 'Receita']\n"
   ]
  },
  {
   "cell_type": "code",
   "execution_count": 45,
   "id": "4bf2cd18",
   "metadata": {},
   "outputs": [],
   "source": [
    "df_usuario = pd.merge(df_usuario, df_receita, on = 'id_unico_cliente')\n"
   ]
  },
  {
   "cell_type": "code",
   "execution_count": 46,
   "id": "3a2eccdd",
   "metadata": {},
   "outputs": [
    {
     "data": {
      "text/html": [
       "<div>\n",
       "<style scoped>\n",
       "    .dataframe tbody tr th:only-of-type {\n",
       "        vertical-align: middle;\n",
       "    }\n",
       "\n",
       "    .dataframe tbody tr th {\n",
       "        vertical-align: top;\n",
       "    }\n",
       "\n",
       "    .dataframe thead th {\n",
       "        text-align: right;\n",
       "    }\n",
       "</style>\n",
       "<table border=\"1\" class=\"dataframe\">\n",
       "  <thead>\n",
       "    <tr style=\"text-align: right;\">\n",
       "      <th></th>\n",
       "      <th>id_unico_cliente</th>\n",
       "      <th>id_cliente</th>\n",
       "      <th>horario_pedido</th>\n",
       "      <th>item_id</th>\n",
       "      <th>preco</th>\n",
       "      <th>Recencia</th>\n",
       "      <th>RecenciaCluster</th>\n",
       "      <th>Frequencia</th>\n",
       "      <th>FrequenciaCluster</th>\n",
       "      <th>Receita</th>\n",
       "    </tr>\n",
       "  </thead>\n",
       "  <tbody>\n",
       "    <tr>\n",
       "      <th>0</th>\n",
       "      <td>861eff4711a542e4b93843c6dd7febb0</td>\n",
       "      <td>06b8999e2fba1a1fbc88172c00ba8bc7</td>\n",
       "      <td>2017-05-16 15:05:35</td>\n",
       "      <td>1</td>\n",
       "      <td>124.99</td>\n",
       "      <td>474</td>\n",
       "      <td>3</td>\n",
       "      <td>1</td>\n",
       "      <td>0</td>\n",
       "      <td>146.87</td>\n",
       "    </tr>\n",
       "    <tr>\n",
       "      <th>1</th>\n",
       "      <td>3c799d181c34d51f6d44bbbc563024db</td>\n",
       "      <td>f0ac8e5a239118859b1734e1087cbb1f</td>\n",
       "      <td>2017-05-07 20:11:26</td>\n",
       "      <td>1</td>\n",
       "      <td>124.99</td>\n",
       "      <td>483</td>\n",
       "      <td>3</td>\n",
       "      <td>1</td>\n",
       "      <td>0</td>\n",
       "      <td>140.61</td>\n",
       "    </tr>\n",
       "    <tr>\n",
       "      <th>2</th>\n",
       "      <td>567ab47ca4deb92d46dbf54dce07d0a7</td>\n",
       "      <td>fd3a0b1bd209f0e7d420c9c3d1127613</td>\n",
       "      <td>2017-03-23 15:10:17</td>\n",
       "      <td>1</td>\n",
       "      <td>126.99</td>\n",
       "      <td>528</td>\n",
       "      <td>3</td>\n",
       "      <td>1</td>\n",
       "      <td>0</td>\n",
       "      <td>142.05</td>\n",
       "    </tr>\n",
       "    <tr>\n",
       "      <th>3</th>\n",
       "      <td>f40ab89b622248b7ca125af4b486b887</td>\n",
       "      <td>fbd40c083aa8cddebb5265b2ba6aaf2e</td>\n",
       "      <td>2017-05-16 10:00:49</td>\n",
       "      <td>1</td>\n",
       "      <td>124.99</td>\n",
       "      <td>474</td>\n",
       "      <td>3</td>\n",
       "      <td>1</td>\n",
       "      <td>0</td>\n",
       "      <td>155.70</td>\n",
       "    </tr>\n",
       "    <tr>\n",
       "      <th>4</th>\n",
       "      <td>749943913a9851a39c9baf51877fbab6</td>\n",
       "      <td>10558ef4afea173bfb5e2cbe3d5b0bb5</td>\n",
       "      <td>2017-03-18 23:04:36</td>\n",
       "      <td>1</td>\n",
       "      <td>126.99</td>\n",
       "      <td>533</td>\n",
       "      <td>3</td>\n",
       "      <td>1</td>\n",
       "      <td>0</td>\n",
       "      <td>148.33</td>\n",
       "    </tr>\n",
       "  </tbody>\n",
       "</table>\n",
       "</div>"
      ],
      "text/plain": [
       "                   id_unico_cliente                        id_cliente  \\\n",
       "0  861eff4711a542e4b93843c6dd7febb0  06b8999e2fba1a1fbc88172c00ba8bc7   \n",
       "1  3c799d181c34d51f6d44bbbc563024db  f0ac8e5a239118859b1734e1087cbb1f   \n",
       "2  567ab47ca4deb92d46dbf54dce07d0a7  fd3a0b1bd209f0e7d420c9c3d1127613   \n",
       "3  f40ab89b622248b7ca125af4b486b887  fbd40c083aa8cddebb5265b2ba6aaf2e   \n",
       "4  749943913a9851a39c9baf51877fbab6  10558ef4afea173bfb5e2cbe3d5b0bb5   \n",
       "\n",
       "        horario_pedido  item_id   preco  Recencia  RecenciaCluster  \\\n",
       "0  2017-05-16 15:05:35        1  124.99       474                3   \n",
       "1  2017-05-07 20:11:26        1  124.99       483                3   \n",
       "2  2017-03-23 15:10:17        1  126.99       528                3   \n",
       "3  2017-05-16 10:00:49        1  124.99       474                3   \n",
       "4  2017-03-18 23:04:36        1  126.99       533                3   \n",
       "\n",
       "   Frequencia  FrequenciaCluster  Receita  \n",
       "0           1                  0   146.87  \n",
       "1           1                  0   140.61  \n",
       "2           1                  0   142.05  \n",
       "3           1                  0   155.70  \n",
       "4           1                  0   148.33  "
      ]
     },
     "execution_count": 46,
     "metadata": {},
     "output_type": "execute_result"
    }
   ],
   "source": [
    "df_usuario.head()"
   ]
  },
  {
   "cell_type": "markdown",
   "id": "7def503f",
   "metadata": {},
   "source": [
    "### Fazendo o agrupamento"
   ]
  },
  {
   "cell_type": "code",
   "execution_count": 47,
   "id": "c109dbd5",
   "metadata": {},
   "outputs": [],
   "source": [
    "kmeans = KMeans(n_clusters = 4)\n",
    "df_pagamento = df_usuario[['Receita']]"
   ]
  },
  {
   "cell_type": "code",
   "execution_count": 48,
   "id": "45669652",
   "metadata": {},
   "outputs": [],
   "source": [
    "df_usuario['ReceitaCluster'] = kmeans.fit_predict(df_pagamento)"
   ]
  },
  {
   "cell_type": "code",
   "execution_count": 49,
   "id": "162e7596",
   "metadata": {},
   "outputs": [],
   "source": [
    "# ordenando \n",
    "\n",
    "df_usuario = ordenador_cluster('ReceitaCluster', 'Receita', df_usuario)\n"
   ]
  },
  {
   "cell_type": "code",
   "execution_count": 50,
   "id": "86106589",
   "metadata": {},
   "outputs": [
    {
     "data": {
      "text/html": [
       "<div>\n",
       "<style scoped>\n",
       "    .dataframe tbody tr th:only-of-type {\n",
       "        vertical-align: middle;\n",
       "    }\n",
       "\n",
       "    .dataframe tbody tr th {\n",
       "        vertical-align: top;\n",
       "    }\n",
       "\n",
       "    .dataframe thead th {\n",
       "        text-align: right;\n",
       "    }\n",
       "</style>\n",
       "<table border=\"1\" class=\"dataframe\">\n",
       "  <thead>\n",
       "    <tr style=\"text-align: right;\">\n",
       "      <th></th>\n",
       "      <th>count</th>\n",
       "      <th>mean</th>\n",
       "      <th>std</th>\n",
       "      <th>min</th>\n",
       "      <th>25%</th>\n",
       "      <th>50%</th>\n",
       "      <th>75%</th>\n",
       "      <th>max</th>\n",
       "    </tr>\n",
       "    <tr>\n",
       "      <th>ReceitaCluster</th>\n",
       "      <th></th>\n",
       "      <th></th>\n",
       "      <th></th>\n",
       "      <th></th>\n",
       "      <th></th>\n",
       "      <th></th>\n",
       "      <th></th>\n",
       "      <th></th>\n",
       "    </tr>\n",
       "  </thead>\n",
       "  <tbody>\n",
       "    <tr>\n",
       "      <th>0</th>\n",
       "      <td>114763.0</td>\n",
       "      <td>258.095126</td>\n",
       "      <td>364.892800</td>\n",
       "      <td>9.59</td>\n",
       "      <td>69.90</td>\n",
       "      <td>132.57</td>\n",
       "      <td>269.10</td>\n",
       "      <td>2950.16</td>\n",
       "    </tr>\n",
       "    <tr>\n",
       "      <th>1</th>\n",
       "      <td>1619.0</td>\n",
       "      <td>5650.053385</td>\n",
       "      <td>2881.999747</td>\n",
       "      <td>2951.83</td>\n",
       "      <td>3557.12</td>\n",
       "      <td>4491.44</td>\n",
       "      <td>6914.63</td>\n",
       "      <td>16313.60</td>\n",
       "    </tr>\n",
       "    <tr>\n",
       "      <th>2</th>\n",
       "      <td>191.0</td>\n",
       "      <td>27358.656911</td>\n",
       "      <td>10032.832924</td>\n",
       "      <td>17069.76</td>\n",
       "      <td>19167.26</td>\n",
       "      <td>25051.89</td>\n",
       "      <td>30186.00</td>\n",
       "      <td>45256.00</td>\n",
       "    </tr>\n",
       "    <tr>\n",
       "      <th>3</th>\n",
       "      <td>8.0</td>\n",
       "      <td>109312.640000</td>\n",
       "      <td>0.000000</td>\n",
       "      <td>109312.64</td>\n",
       "      <td>109312.64</td>\n",
       "      <td>109312.64</td>\n",
       "      <td>109312.64</td>\n",
       "      <td>109312.64</td>\n",
       "    </tr>\n",
       "  </tbody>\n",
       "</table>\n",
       "</div>"
      ],
      "text/plain": [
       "                   count           mean           std        min        25%  \\\n",
       "ReceitaCluster                                                                \n",
       "0               114763.0     258.095126    364.892800       9.59      69.90   \n",
       "1                 1619.0    5650.053385   2881.999747    2951.83    3557.12   \n",
       "2                  191.0   27358.656911  10032.832924   17069.76   19167.26   \n",
       "3                    8.0  109312.640000      0.000000  109312.64  109312.64   \n",
       "\n",
       "                      50%        75%        max  \n",
       "ReceitaCluster                                   \n",
       "0                  132.57     269.10    2950.16  \n",
       "1                 4491.44    6914.63   16313.60  \n",
       "2                25051.89   30186.00   45256.00  \n",
       "3               109312.64  109312.64  109312.64  "
      ]
     },
     "execution_count": 50,
     "metadata": {},
     "output_type": "execute_result"
    }
   ],
   "source": [
    "df_usuario.groupby('ReceitaCluster')['Receita'].describe()"
   ]
  },
  {
   "cell_type": "markdown",
   "id": "cbe7ee67",
   "metadata": {},
   "source": [
    " >  # Construindo um score para os clientes a partir das pontuações em Recência, Frequência e Receita "
   ]
  },
  {
   "cell_type": "code",
   "execution_count": 51,
   "id": "5d060fc3",
   "metadata": {},
   "outputs": [],
   "source": [
    "import sys  ## para remover os warnings \n",
    "import warnings\n",
    "\n",
    "if not sys.warnoptions:\n",
    "    warnings.simplefilter('ignore')"
   ]
  },
  {
   "cell_type": "code",
   "execution_count": 52,
   "id": "1418c0b0",
   "metadata": {},
   "outputs": [
    {
     "data": {
      "text/html": [
       "<div>\n",
       "<style scoped>\n",
       "    .dataframe tbody tr th:only-of-type {\n",
       "        vertical-align: middle;\n",
       "    }\n",
       "\n",
       "    .dataframe tbody tr th {\n",
       "        vertical-align: top;\n",
       "    }\n",
       "\n",
       "    .dataframe thead th {\n",
       "        text-align: right;\n",
       "    }\n",
       "</style>\n",
       "<table border=\"1\" class=\"dataframe\">\n",
       "  <thead>\n",
       "    <tr style=\"text-align: right;\">\n",
       "      <th></th>\n",
       "      <th>id_unico_cliente</th>\n",
       "      <th>Recencia</th>\n",
       "      <th>RecenciaCluster</th>\n",
       "      <th>Frequencia</th>\n",
       "      <th>FrequenciaCluster</th>\n",
       "      <th>Receita</th>\n",
       "      <th>ReceitaCluster</th>\n",
       "    </tr>\n",
       "  </thead>\n",
       "  <tbody>\n",
       "    <tr>\n",
       "      <th>116576</th>\n",
       "      <td>0a0a92112bd4c708ca5fde585afaa872</td>\n",
       "      <td>338</td>\n",
       "      <td>2</td>\n",
       "      <td>8</td>\n",
       "      <td>1</td>\n",
       "      <td>109312.64</td>\n",
       "      <td>3</td>\n",
       "    </tr>\n",
       "    <tr>\n",
       "      <th>116577</th>\n",
       "      <td>0a0a92112bd4c708ca5fde585afaa872</td>\n",
       "      <td>338</td>\n",
       "      <td>2</td>\n",
       "      <td>8</td>\n",
       "      <td>1</td>\n",
       "      <td>109312.64</td>\n",
       "      <td>3</td>\n",
       "    </tr>\n",
       "    <tr>\n",
       "      <th>116578</th>\n",
       "      <td>0a0a92112bd4c708ca5fde585afaa872</td>\n",
       "      <td>338</td>\n",
       "      <td>2</td>\n",
       "      <td>8</td>\n",
       "      <td>1</td>\n",
       "      <td>109312.64</td>\n",
       "      <td>3</td>\n",
       "    </tr>\n",
       "    <tr>\n",
       "      <th>116579</th>\n",
       "      <td>0a0a92112bd4c708ca5fde585afaa872</td>\n",
       "      <td>338</td>\n",
       "      <td>2</td>\n",
       "      <td>8</td>\n",
       "      <td>1</td>\n",
       "      <td>109312.64</td>\n",
       "      <td>3</td>\n",
       "    </tr>\n",
       "    <tr>\n",
       "      <th>116580</th>\n",
       "      <td>0a0a92112bd4c708ca5fde585afaa872</td>\n",
       "      <td>338</td>\n",
       "      <td>2</td>\n",
       "      <td>8</td>\n",
       "      <td>1</td>\n",
       "      <td>109312.64</td>\n",
       "      <td>3</td>\n",
       "    </tr>\n",
       "  </tbody>\n",
       "</table>\n",
       "</div>"
      ],
      "text/plain": [
       "                        id_unico_cliente  Recencia  RecenciaCluster  \\\n",
       "116576  0a0a92112bd4c708ca5fde585afaa872       338                2   \n",
       "116577  0a0a92112bd4c708ca5fde585afaa872       338                2   \n",
       "116578  0a0a92112bd4c708ca5fde585afaa872       338                2   \n",
       "116579  0a0a92112bd4c708ca5fde585afaa872       338                2   \n",
       "116580  0a0a92112bd4c708ca5fde585afaa872       338                2   \n",
       "\n",
       "        Frequencia  FrequenciaCluster    Receita  ReceitaCluster  \n",
       "116576           8                  1  109312.64               3  \n",
       "116577           8                  1  109312.64               3  \n",
       "116578           8                  1  109312.64               3  \n",
       "116579           8                  1  109312.64               3  \n",
       "116580           8                  1  109312.64               3  "
      ]
     },
     "execution_count": 52,
     "metadata": {},
     "output_type": "execute_result"
    }
   ],
   "source": [
    "df_final = df_usuario[['id_unico_cliente','Recencia','RecenciaCluster',\n",
    "                       'Frequencia','FrequenciaCluster','Receita','ReceitaCluster']]\n",
    "df_final.tail()"
   ]
  },
  {
   "cell_type": "code",
   "execution_count": 53,
   "id": "fb3c6447",
   "metadata": {},
   "outputs": [],
   "source": [
    "df_final['Pontuacao'] = df_usuario['RecenciaCluster'] + df_usuario['FrequenciaCluster'] + \\\n",
    "                         df_usuario['ReceitaCluster'] "
   ]
  },
  {
   "cell_type": "markdown",
   "id": "be0991d5",
   "metadata": {},
   "source": [
    "# A maior pontuação que um cliente possui é 6"
   ]
  },
  {
   "cell_type": "code",
   "execution_count": 54,
   "id": "d4405636",
   "metadata": {},
   "outputs": [
    {
     "data": {
      "text/plain": [
       "6"
      ]
     },
     "execution_count": 54,
     "metadata": {},
     "output_type": "execute_result"
    }
   ],
   "source": [
    "df_final['Pontuacao'].max() .\n",
    "# isso pode ser passado para o marketing, por exemplo."
   ]
  },
  {
   "cell_type": "markdown",
   "id": "cb4b0029",
   "metadata": {},
   "source": [
    "## Separando os clientes em segmentos: Inativo, Business, Master e Premium, conforme a pontuação"
   ]
  },
  {
   "cell_type": "code",
   "execution_count": 60,
   "id": "4a2868b6",
   "metadata": {},
   "outputs": [],
   "source": [
    "df_final['Segmento'] = 'Inativo' # inicialmente todos estão inativos."
   ]
  },
  {
   "cell_type": "code",
   "execution_count": 61,
   "id": "2682c26a",
   "metadata": {},
   "outputs": [],
   "source": [
    "df_final.loc[df_final['Pontuacao']>=1,'Segmento'] = 'Business'\n",
    "df_final.loc[df_final['Pontuacao']>=3,'Segmento'] = 'Master'\n",
    "df_final.loc[df_final['Pontuacao']>=5,'Segmento'] = 'Premium'"
   ]
  },
  {
   "cell_type": "code",
   "execution_count": 62,
   "id": "3e6e2339",
   "metadata": {},
   "outputs": [
    {
     "data": {
      "text/html": [
       "<div>\n",
       "<style scoped>\n",
       "    .dataframe tbody tr th:only-of-type {\n",
       "        vertical-align: middle;\n",
       "    }\n",
       "\n",
       "    .dataframe tbody tr th {\n",
       "        vertical-align: top;\n",
       "    }\n",
       "\n",
       "    .dataframe thead th {\n",
       "        text-align: right;\n",
       "    }\n",
       "</style>\n",
       "<table border=\"1\" class=\"dataframe\">\n",
       "  <thead>\n",
       "    <tr style=\"text-align: right;\">\n",
       "      <th></th>\n",
       "      <th>id_unico_cliente</th>\n",
       "      <th>Recencia</th>\n",
       "      <th>RecenciaCluster</th>\n",
       "      <th>Frequencia</th>\n",
       "      <th>FrequenciaCluster</th>\n",
       "      <th>Receita</th>\n",
       "      <th>ReceitaCluster</th>\n",
       "      <th>Pontuacao</th>\n",
       "      <th>Segmento</th>\n",
       "    </tr>\n",
       "  </thead>\n",
       "  <tbody>\n",
       "    <tr>\n",
       "      <th>116576</th>\n",
       "      <td>0a0a92112bd4c708ca5fde585afaa872</td>\n",
       "      <td>338</td>\n",
       "      <td>2</td>\n",
       "      <td>8</td>\n",
       "      <td>1</td>\n",
       "      <td>109312.64</td>\n",
       "      <td>3</td>\n",
       "      <td>6</td>\n",
       "      <td>Premium</td>\n",
       "    </tr>\n",
       "    <tr>\n",
       "      <th>116577</th>\n",
       "      <td>0a0a92112bd4c708ca5fde585afaa872</td>\n",
       "      <td>338</td>\n",
       "      <td>2</td>\n",
       "      <td>8</td>\n",
       "      <td>1</td>\n",
       "      <td>109312.64</td>\n",
       "      <td>3</td>\n",
       "      <td>6</td>\n",
       "      <td>Premium</td>\n",
       "    </tr>\n",
       "    <tr>\n",
       "      <th>116578</th>\n",
       "      <td>0a0a92112bd4c708ca5fde585afaa872</td>\n",
       "      <td>338</td>\n",
       "      <td>2</td>\n",
       "      <td>8</td>\n",
       "      <td>1</td>\n",
       "      <td>109312.64</td>\n",
       "      <td>3</td>\n",
       "      <td>6</td>\n",
       "      <td>Premium</td>\n",
       "    </tr>\n",
       "    <tr>\n",
       "      <th>116579</th>\n",
       "      <td>0a0a92112bd4c708ca5fde585afaa872</td>\n",
       "      <td>338</td>\n",
       "      <td>2</td>\n",
       "      <td>8</td>\n",
       "      <td>1</td>\n",
       "      <td>109312.64</td>\n",
       "      <td>3</td>\n",
       "      <td>6</td>\n",
       "      <td>Premium</td>\n",
       "    </tr>\n",
       "    <tr>\n",
       "      <th>116580</th>\n",
       "      <td>0a0a92112bd4c708ca5fde585afaa872</td>\n",
       "      <td>338</td>\n",
       "      <td>2</td>\n",
       "      <td>8</td>\n",
       "      <td>1</td>\n",
       "      <td>109312.64</td>\n",
       "      <td>3</td>\n",
       "      <td>6</td>\n",
       "      <td>Premium</td>\n",
       "    </tr>\n",
       "  </tbody>\n",
       "</table>\n",
       "</div>"
      ],
      "text/plain": [
       "                        id_unico_cliente  Recencia  RecenciaCluster  \\\n",
       "116576  0a0a92112bd4c708ca5fde585afaa872       338                2   \n",
       "116577  0a0a92112bd4c708ca5fde585afaa872       338                2   \n",
       "116578  0a0a92112bd4c708ca5fde585afaa872       338                2   \n",
       "116579  0a0a92112bd4c708ca5fde585afaa872       338                2   \n",
       "116580  0a0a92112bd4c708ca5fde585afaa872       338                2   \n",
       "\n",
       "        Frequencia  FrequenciaCluster    Receita  ReceitaCluster  Pontuacao  \\\n",
       "116576           8                  1  109312.64               3          6   \n",
       "116577           8                  1  109312.64               3          6   \n",
       "116578           8                  1  109312.64               3          6   \n",
       "116579           8                  1  109312.64               3          6   \n",
       "116580           8                  1  109312.64               3          6   \n",
       "\n",
       "       Segmento  \n",
       "116576  Premium  \n",
       "116577  Premium  \n",
       "116578  Premium  \n",
       "116579  Premium  \n",
       "116580  Premium  "
      ]
     },
     "execution_count": 62,
     "metadata": {},
     "output_type": "execute_result"
    }
   ],
   "source": [
    "df_final.tail()"
   ]
  },
  {
   "cell_type": "code",
   "execution_count": 63,
   "id": "e9a8e108",
   "metadata": {},
   "outputs": [],
   "source": [
    "df_final.to_csv('RFM.csv')"
   ]
  },
  {
   "cell_type": "markdown",
   "id": "9bcb4095",
   "metadata": {},
   "source": [
    "# Análises visuais"
   ]
  },
  {
   "cell_type": "markdown",
   "id": "0fed33f0",
   "metadata": {},
   "source": [
    "## Definiremos uma função para ver como as variáveis RFM se relacionam entre si."
   ]
  },
  {
   "cell_type": "code",
   "execution_count": 64,
   "id": "d2a5ce2a",
   "metadata": {},
   "outputs": [],
   "source": [
    "def plot_segmento(x,y,data):\n",
    "    sns.set(palette='muted',color_codes=True,style='whitegrid') # definindo a paleta de cores\n",
    "    plt.figure(figsize=(7,5))\n",
    "    sns.scatterplot(x=x,y=y,hue='Segmento',data=data,size='Segmento',\n",
    "                    sizes=(50,150),size_order=['Premium','Master','Business','Inativo'])\n",
    "    plt.show()"
   ]
  },
  {
   "cell_type": "markdown",
   "id": "99cd781d",
   "metadata": {},
   "source": [
    "## Plot Recência x Frequência'"
   ]
  },
  {
   "cell_type": "code",
   "execution_count": 65,
   "id": "c2e52f26",
   "metadata": {},
   "outputs": [
    {
     "data": {
      "image/png": "[encoded data removed]",
      "text/plain": [
       "<Figure size 504x360 with 1 Axes>"
      ]
     },
     "metadata": {},
     "output_type": "display_data"
    }
   ],
   "source": [
    "plot_segmento('Recencia', 'Frequencia', df_final)"
   ]
  },
  {
   "cell_type": "markdown",
   "id": "3c8ba43e",
   "metadata": {},
   "source": [
    "## Plot Recência x Receita"
   ]
  },
  {
   "cell_type": "code",
   "execution_count": 66,
   "id": "682ee49c",
   "metadata": {},
   "outputs": [
    {
     "data": {
      "image/png": "[encoded data removed]",
      "text/plain": [
       "<Figure size 504x360 with 1 Axes>"
      ]
     },
     "metadata": {},
     "output_type": "display_data"
    }
   ],
   "source": [
    "plot_segmento('Recencia', 'Receita', df_final)"
   ]
  },
  {
   "cell_type": "markdown",
   "id": "c34308b7",
   "metadata": {},
   "source": [
    "## Plot Frequência x Receita"
   ]
  },
  {
   "cell_type": "code",
   "execution_count": 67,
   "id": "9bb42491",
   "metadata": {},
   "outputs": [
    {
     "data": {
      "image/png": "[encoded data removed]",
      "text/plain": [
       "<Figure size 504x360 with 1 Axes>"
      ]
     },
     "metadata": {},
     "output_type": "display_data"
    }
   ],
   "source": [
    "plot_segmento('Frequencia', 'Receita', df_final)"
   ]
  },
  {
   "cell_type": "markdown",
   "id": "ca362640",
   "metadata": {},
   "source": [
    "## Plot Segmento "
   ]
  },
  {
   "cell_type": "code",
   "execution_count": 69,
   "id": "fbdf732b",
   "metadata": {},
   "outputs": [
    {
     "data": {
      "text/plain": [
       "<AxesSubplot:xlabel='Segmento', ylabel='count'>"
      ]
     },
     "execution_count": 69,
     "metadata": {},
     "output_type": "execute_result"
    },
    {
     "data": {
      "image/png": "[encoded data removed]",
      "text/plain": [
       "<Figure size 432x288 with 1 Axes>"
      ]
     },
     "metadata": {},
     "output_type": "display_data"
    }
   ],
   "source": [
    "sns.countplot(df_final['Segmento']) "
   ]
  },
  {
   "cell_type": "code",
   "execution_count": null,
   "id": "7dc2536a",
   "metadata": {},
   "outputs": [],
   "source": []
  },
  {
   "cell_type": "code",
   "execution_count": null,
   "id": "e01203cf",
   "metadata": {},
   "outputs": [],
   "source": []
  }
 ],
 "metadata": {
  "kernelspec": {
   "display_name": "Python 3 (ipykernel)",
   "language": "python",
   "name": "python3"
  },
  "language_info": {
   "codemirror_mode": {
    "name": "ipython",
    "version": 3
   },
   "file_extension": ".py",
   "mimetype": "text/x-python",
   "name": "python",
   "nbconvert_exporter": "python",
   "pygments_lexer": "ipython3",
   "version": "3.9.7"
  }
 },
 "nbformat": 4,
 "nbformat_minor": 5
}
